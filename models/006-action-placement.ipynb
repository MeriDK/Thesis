{
 "cells": [
  {
   "cell_type": "code",
   "execution_count": 40,
   "id": "dd42010c-f8e3-49a1-9bc1-75e2dc3f1bd9",
   "metadata": {},
   "outputs": [],
   "source": [
    "from python_speech_features import mfcc, logfbank\n",
    "import matplotlib.pyplot as plt\n",
    "from matplotlib import cm\n",
    "import numpy as np\n",
    "import scipy\n",
    "import sklearn\n",
    "import librosa\n",
    "import librosa.display\n",
    "import IPython.display as ipd\n",
    "import json\n",
    "from scipy.signal import find_peaks\n",
    "from sklearn.metrics import accuracy_score, f1_score, precision_score, recall_score, classification_report, confusion_matrix\n",
    "import pandas as pd\n",
    "from random import shuffle\n",
    "from sklearn.ensemble import RandomForestClassifier"
   ]
  },
  {
   "cell_type": "code",
   "execution_count": 2,
   "id": "fe4e1030-c73a-4437-a9da-6df876d06fee",
   "metadata": {},
   "outputs": [],
   "source": [
    "def get_xy(audio_path, level_path, tempo):\n",
    "    # read audio and calculate tempo\n",
    "    y, sr = librosa.load(audio_path)\n",
    "\n",
    "    # get spectrogram\n",
    "    S = librosa.feature.melspectrogram(y, n_mels=16, hop_length=512)\n",
    "    log_S = librosa.power_to_db(S)\n",
    "    X = log_S.T\n",
    "\n",
    "    # read level\n",
    "    with open(level_path, 'r') as f:\n",
    "        data = json.load(f)\n",
    "        t = np.array(sorted(list(set([el['_time'] for el in data['_notes']]))))\n",
    "        \n",
    "        mask = librosa.time_to_frames(t / tempo * 60, hop_length=512)\n",
    "        res = np.zeros(log_S.shape[1])\n",
    "        res[mask] = 1\n",
    "        \n",
    "    return X, res"
   ]
  },
  {
   "cell_type": "code",
   "execution_count": 3,
   "id": "ade0918d-2edd-4023-82e6-e989f85595eb",
   "metadata": {},
   "outputs": [
    {
     "data": {
      "text/html": [
       "<div>\n",
       "<style scoped>\n",
       "    .dataframe tbody tr th:only-of-type {\n",
       "        vertical-align: middle;\n",
       "    }\n",
       "\n",
       "    .dataframe tbody tr th {\n",
       "        vertical-align: top;\n",
       "    }\n",
       "\n",
       "    .dataframe thead th {\n",
       "        text-align: right;\n",
       "    }\n",
       "</style>\n",
       "<table border=\"1\" class=\"dataframe\">\n",
       "  <thead>\n",
       "    <tr style=\"text-align: right;\">\n",
       "      <th></th>\n",
       "      <th>song_id</th>\n",
       "      <th>song_name</th>\n",
       "      <th>song_author</th>\n",
       "      <th>song_file</th>\n",
       "      <th>bpm</th>\n",
       "      <th>Easy</th>\n",
       "      <th>Normal</th>\n",
       "      <th>Hard</th>\n",
       "      <th>Expert</th>\n",
       "      <th>ExpertPlus</th>\n",
       "    </tr>\n",
       "  </thead>\n",
       "  <tbody>\n",
       "    <tr>\n",
       "      <th>0</th>\n",
       "      <td>aaj</td>\n",
       "      <td>Aaj</td>\n",
       "      <td>Bloodywood</td>\n",
       "      <td>song.ogg</td>\n",
       "      <td>180.000000</td>\n",
       "      <td>Easy.dat</td>\n",
       "      <td>NaN</td>\n",
       "      <td>NaN</td>\n",
       "      <td>NaN</td>\n",
       "      <td>NaN</td>\n",
       "    </tr>\n",
       "    <tr>\n",
       "      <th>1</th>\n",
       "      <td>africatotometalcover</td>\n",
       "      <td>Africa - Toto (Metal Cover)</td>\n",
       "      <td>Leo Moracchioli, Rabea, Hannah</td>\n",
       "      <td>song.ogg</td>\n",
       "      <td>105.000000</td>\n",
       "      <td>NaN</td>\n",
       "      <td>NaN</td>\n",
       "      <td>NaN</td>\n",
       "      <td>NaN</td>\n",
       "      <td>ExpertPlus.dat</td>\n",
       "    </tr>\n",
       "    <tr>\n",
       "      <th>2</th>\n",
       "      <td>afterlife</td>\n",
       "      <td>Afterlife</td>\n",
       "      <td>Avenged Sevenfold</td>\n",
       "      <td>song.ogg</td>\n",
       "      <td>220.000000</td>\n",
       "      <td>Easy.dat</td>\n",
       "      <td>NaN</td>\n",
       "      <td>NaN</td>\n",
       "      <td>NaN</td>\n",
       "      <td>NaN</td>\n",
       "    </tr>\n",
       "    <tr>\n",
       "      <th>3</th>\n",
       "      <td>alerion</td>\n",
       "      <td>Alerion</td>\n",
       "      <td>Asking Alexandria</td>\n",
       "      <td>song.ogg</td>\n",
       "      <td>130.000000</td>\n",
       "      <td>NaN</td>\n",
       "      <td>NormalStandard.dat</td>\n",
       "      <td>HardStandard.dat</td>\n",
       "      <td>NaN</td>\n",
       "      <td>ExpertPlusStandard.dat</td>\n",
       "    </tr>\n",
       "    <tr>\n",
       "      <th>4</th>\n",
       "      <td>alittlepieceofheaven</td>\n",
       "      <td>A Little Piece of Heaven</td>\n",
       "      <td>Avenged Sevenfold</td>\n",
       "      <td>song.ogg</td>\n",
       "      <td>144.985992</td>\n",
       "      <td>NaN</td>\n",
       "      <td>NaN</td>\n",
       "      <td>NaN</td>\n",
       "      <td>NaN</td>\n",
       "      <td>NaN</td>\n",
       "    </tr>\n",
       "  </tbody>\n",
       "</table>\n",
       "</div>"
      ],
      "text/plain": [
       "                song_id                    song_name  \\\n",
       "0                   aaj                          Aaj   \n",
       "1  africatotometalcover  Africa - Toto (Metal Cover)   \n",
       "2             afterlife                    Afterlife   \n",
       "3               alerion                      Alerion   \n",
       "4  alittlepieceofheaven     A Little Piece of Heaven   \n",
       "\n",
       "                      song_author song_file         bpm      Easy  \\\n",
       "0                      Bloodywood  song.ogg  180.000000  Easy.dat   \n",
       "1  Leo Moracchioli, Rabea, Hannah  song.ogg  105.000000       NaN   \n",
       "2               Avenged Sevenfold  song.ogg  220.000000  Easy.dat   \n",
       "3               Asking Alexandria  song.ogg  130.000000       NaN   \n",
       "4               Avenged Sevenfold  song.ogg  144.985992       NaN   \n",
       "\n",
       "               Normal              Hard Expert              ExpertPlus  \n",
       "0                 NaN               NaN    NaN                     NaN  \n",
       "1                 NaN               NaN    NaN          ExpertPlus.dat  \n",
       "2                 NaN               NaN    NaN                     NaN  \n",
       "3  NormalStandard.dat  HardStandard.dat    NaN  ExpertPlusStandard.dat  \n",
       "4                 NaN               NaN    NaN                     NaN  "
      ]
     },
     "execution_count": 3,
     "metadata": {},
     "output_type": "execute_result"
    }
   ],
   "source": [
    "df = pd.read_csv('data_info2.csv')\n",
    "df.head()"
   ]
  },
  {
   "cell_type": "code",
   "execution_count": 4,
   "id": "b039eb84-2d44-45e9-99f3-4dfd33d6385b",
   "metadata": {},
   "outputs": [],
   "source": [
    "song_ids = list(df[~df['Easy'].isnull()]['song_id'])\n",
    "shuffle(song_ids)"
   ]
  },
  {
   "cell_type": "code",
   "execution_count": 5,
   "id": "55462058-58dc-4c0c-b7d0-de15865c77bf",
   "metadata": {},
   "outputs": [],
   "source": [
    "song_ids_train = song_ids[:400]\n",
    "song_ids_test = song_ids[400:]"
   ]
  },
  {
   "cell_type": "code",
   "execution_count": 6,
   "id": "967c36b1-5ab8-494e-9318-f925ac62fbac",
   "metadata": {},
   "outputs": [
    {
     "data": {
      "text/plain": [
       "(400, 172)"
      ]
     },
     "execution_count": 6,
     "metadata": {},
     "output_type": "execute_result"
    }
   ],
   "source": [
    "len(song_ids_train), len(song_ids_test)"
   ]
  },
  {
   "cell_type": "code",
   "execution_count": 7,
   "id": "4fe37d68-a239-4170-92f1-ded95c19092e",
   "metadata": {},
   "outputs": [],
   "source": [
    "df_train = df[df['song_id'].isin(song_ids_train)]\n",
    "df_test = df[df['song_id'].isin(song_ids_test)]"
   ]
  },
  {
   "cell_type": "code",
   "execution_count": 8,
   "id": "9606fb77-0c87-44b4-968e-053d192b2ea4",
   "metadata": {},
   "outputs": [],
   "source": [
    "train_X, test_X = [], []\n",
    "train_y, test_y = [], []"
   ]
  },
  {
   "cell_type": "code",
   "execution_count": 12,
   "id": "9b1b4fe3-14ad-4c27-86d2-00175f3391d6",
   "metadata": {},
   "outputs": [
    {
     "name": "stdout",
     "output_type": "stream",
     "text": [
      "30\n",
      "40\n",
      "50\n",
      "70\n",
      "90\n",
      "110\n",
      "120\n",
      "150\n",
      "160\n",
      "Error:  190\n",
      "190\n",
      "200\n",
      "210\n",
      "230\n",
      "290\n",
      "320\n",
      "350\n",
      "Error:  384\n",
      "400\n",
      "410\n",
      "450\n",
      "470\n",
      "480\n",
      "500\n",
      "510\n",
      "540\n",
      "550\n",
      "570\n",
      "590\n",
      "600\n",
      "610\n",
      "640\n",
      "660\n",
      "670\n",
      "700\n",
      "720\n",
      "740\n",
      "760\n",
      "770\n",
      "790\n"
     ]
    }
   ],
   "source": [
    "for i, el in df_train.iterrows():\n",
    "    try:\n",
    "        path = 'data/' + el['song_id'] + '/'\n",
    "        el_X, el_y = get_xy(path + el['song_file'], path + el['Easy'], el['bpm'])\n",
    "        train_X.append(el_X)\n",
    "        train_y.append(el_y)\n",
    "    except:\n",
    "        print('Error: ', i)\n",
    "        \n",
    "    if i % 10 == 0:\n",
    "        print(i)"
   ]
  },
  {
   "cell_type": "code",
   "execution_count": 26,
   "id": "f82c99e1-187b-4e8f-ac2f-7b5c71bcb5ef",
   "metadata": {},
   "outputs": [],
   "source": [
    "X_train = np.vstack(train_X)"
   ]
  },
  {
   "cell_type": "code",
   "execution_count": 27,
   "id": "e06b2ee6-ff31-4e80-be83-4069485a731f",
   "metadata": {},
   "outputs": [
    {
     "data": {
      "text/plain": [
       "(3772800, 16)"
      ]
     },
     "execution_count": 27,
     "metadata": {},
     "output_type": "execute_result"
    }
   ],
   "source": [
    "X_train.shape"
   ]
  },
  {
   "cell_type": "code",
   "execution_count": 28,
   "id": "309cf307-805e-45e8-b5f0-7dac8f39281b",
   "metadata": {},
   "outputs": [],
   "source": [
    "y_train = np.hstack(train_y)"
   ]
  },
  {
   "cell_type": "code",
   "execution_count": 29,
   "id": "b38e6e14-9fac-47f1-8adb-d125636be3d6",
   "metadata": {},
   "outputs": [
    {
     "data": {
      "text/plain": [
       "(3772800,)"
      ]
     },
     "execution_count": 29,
     "metadata": {},
     "output_type": "execute_result"
    }
   ],
   "source": [
    "y_train.shape"
   ]
  },
  {
   "cell_type": "code",
   "execution_count": 30,
   "id": "39ea96cc-8f31-49b0-8b41-c1db62528893",
   "metadata": {},
   "outputs": [],
   "source": [
    "np.save('X_train.npy', X_train)"
   ]
  },
  {
   "cell_type": "code",
   "execution_count": 31,
   "id": "7585672e-3653-4c95-b506-bd60974c82b7",
   "metadata": {},
   "outputs": [],
   "source": [
    "np.save('y_train.npy', y_train)"
   ]
  },
  {
   "cell_type": "code",
   "execution_count": 32,
   "id": "94623b0c-0701-45e1-a1dc-b3108db349a1",
   "metadata": {},
   "outputs": [
    {
     "name": "stdout",
     "output_type": "stream",
     "text": [
      "0\n",
      "Error:  198\n",
      "240\n",
      "300\n",
      "340\n",
      "380\n",
      "420\n",
      "430\n",
      "Error:  433\n",
      "520\n",
      "560\n",
      "620\n",
      "690\n",
      "710\n",
      "780\n",
      "800\n",
      "820\n"
     ]
    }
   ],
   "source": [
    "for i, el in df_test.iterrows():\n",
    "    try:\n",
    "        path = 'data/' + el['song_id'] + '/'\n",
    "        el_X, el_y = get_xy(path + el['song_file'], path + el['Easy'], el['bpm'])\n",
    "        test_X.append(el_X)\n",
    "        test_y.append(el_y)\n",
    "    except:\n",
    "        print('Error: ', i)\n",
    "        \n",
    "    if i % 10 == 0:\n",
    "        print(i)"
   ]
  },
  {
   "cell_type": "code",
   "execution_count": 33,
   "id": "9107030b-8548-4061-9227-6be40f3c7d83",
   "metadata": {},
   "outputs": [],
   "source": [
    "X_test = np.vstack(test_X)"
   ]
  },
  {
   "cell_type": "code",
   "execution_count": 34,
   "id": "338720a6-0bf7-4dd4-b776-3a0bb8cc39ea",
   "metadata": {},
   "outputs": [
    {
     "data": {
      "text/plain": [
       "(1638318, 16)"
      ]
     },
     "execution_count": 34,
     "metadata": {},
     "output_type": "execute_result"
    }
   ],
   "source": [
    "X_test.shape"
   ]
  },
  {
   "cell_type": "code",
   "execution_count": 35,
   "id": "3bd39485-d86a-4b7a-920e-a9fb00998c44",
   "metadata": {},
   "outputs": [],
   "source": [
    "y_test = np.hstack(test_y)"
   ]
  },
  {
   "cell_type": "code",
   "execution_count": 38,
   "id": "7adb5b01-4a67-434c-9174-ceebec92999e",
   "metadata": {},
   "outputs": [
    {
     "data": {
      "text/plain": [
       "(1638318,)"
      ]
     },
     "execution_count": 38,
     "metadata": {},
     "output_type": "execute_result"
    }
   ],
   "source": [
    "y_test.shape"
   ]
  },
  {
   "cell_type": "code",
   "execution_count": 60,
   "id": "d838a3b8-eabc-43fa-a204-721575d91cad",
   "metadata": {},
   "outputs": [
    {
     "data": {
      "text/plain": [
       "170"
      ]
     },
     "execution_count": 60,
     "metadata": {},
     "output_type": "execute_result"
    }
   ],
   "source": [
    "len(test_X)"
   ]
  },
  {
   "cell_type": "code",
   "execution_count": 59,
   "id": "a11eff18-92f1-4c3c-b1f5-4cef33b231c0",
   "metadata": {},
   "outputs": [],
   "source": [
    "y_test, y_val = test_y[:85], test_y[85:]"
   ]
  },
  {
   "cell_type": "code",
   "execution_count": 61,
   "id": "e72f4c15-f139-43e6-a888-b39b531b5d69",
   "metadata": {},
   "outputs": [],
   "source": [
    "X_test, X_val = test_X[:85], test_X[85:]"
   ]
  },
  {
   "cell_type": "code",
   "execution_count": 62,
   "id": "9ccb0a42-e12a-4728-b158-aba2a42dba87",
   "metadata": {},
   "outputs": [],
   "source": [
    "X_test = np.vstack(X_test)"
   ]
  },
  {
   "cell_type": "code",
   "execution_count": 63,
   "id": "9830b888-3551-4818-bba4-c5f08a2ee1ad",
   "metadata": {},
   "outputs": [],
   "source": [
    "X_val = np.vstack(X_val)"
   ]
  },
  {
   "cell_type": "code",
   "execution_count": 64,
   "id": "b60a7780-18c8-4adc-a750-c089e9af618a",
   "metadata": {},
   "outputs": [
    {
     "data": {
      "text/plain": [
       "(838729, 16)"
      ]
     },
     "execution_count": 64,
     "metadata": {},
     "output_type": "execute_result"
    }
   ],
   "source": [
    "X_test.shape"
   ]
  },
  {
   "cell_type": "code",
   "execution_count": 65,
   "id": "1b778dff-2fc5-44c7-9053-405a7ae1231e",
   "metadata": {},
   "outputs": [
    {
     "data": {
      "text/plain": [
       "(799589, 16)"
      ]
     },
     "execution_count": 65,
     "metadata": {},
     "output_type": "execute_result"
    }
   ],
   "source": [
    "X_val.shape"
   ]
  },
  {
   "cell_type": "code",
   "execution_count": 66,
   "id": "9cc37eee-3ab1-4613-a878-beaa0c8fa8c5",
   "metadata": {},
   "outputs": [],
   "source": [
    "y_test = np.hstack(y_test)\n",
    "y_val = np.hstack(y_val)"
   ]
  },
  {
   "cell_type": "code",
   "execution_count": 67,
   "id": "f40b64be-07f9-4bcc-94e3-321ade153d2d",
   "metadata": {},
   "outputs": [
    {
     "data": {
      "text/plain": [
       "(838729,)"
      ]
     },
     "execution_count": 67,
     "metadata": {},
     "output_type": "execute_result"
    }
   ],
   "source": [
    "y_test.shape"
   ]
  },
  {
   "cell_type": "code",
   "execution_count": 68,
   "id": "392e26e7-2c53-4953-ab61-b059b3f93182",
   "metadata": {},
   "outputs": [
    {
     "data": {
      "text/plain": [
       "(799589,)"
      ]
     },
     "execution_count": 68,
     "metadata": {},
     "output_type": "execute_result"
    }
   ],
   "source": [
    "y_val.shape"
   ]
  },
  {
   "cell_type": "code",
   "execution_count": 69,
   "id": "9fb562ba-263b-4d5b-8277-c822f78323a5",
   "metadata": {},
   "outputs": [],
   "source": [
    "np.save('X_test.npy', X_test)\n",
    "np.save('y_test.npy', y_test)"
   ]
  },
  {
   "cell_type": "code",
   "execution_count": 70,
   "id": "81b8c1fd-7b78-4041-99ba-c8caa4a37ff5",
   "metadata": {},
   "outputs": [],
   "source": [
    "np.save('X_val.npy', X_val)\n",
    "np.save('y_val.npy', y_val)"
   ]
  },
  {
   "cell_type": "code",
   "execution_count": 46,
   "id": "db73ba99-0afb-41ac-89c1-d30cbd569d4b",
   "metadata": {},
   "outputs": [
    {
     "name": "stderr",
     "output_type": "stream",
     "text": [
      "[Parallel(n_jobs=-1)]: Using backend ThreadingBackend with 12 concurrent workers.\n",
      "[Parallel(n_jobs=-1)]: Done  26 tasks      | elapsed:  4.5min\n",
      "[Parallel(n_jobs=-1)]: Done 100 out of 100 | elapsed: 13.3min finished\n"
     ]
    },
    {
     "data": {
      "text/plain": [
       "RandomForestClassifier(n_jobs=-1, random_state=42, verbose=1)"
      ]
     },
     "execution_count": 46,
     "metadata": {},
     "output_type": "execute_result"
    }
   ],
   "source": [
    "clf = RandomForestClassifier(random_state=42, verbose=1, n_jobs=-1)\n",
    "clf.fit(X_train, y_train)"
   ]
  },
  {
   "cell_type": "code",
   "execution_count": 47,
   "id": "5a08c2c2-b7cb-4903-9192-b4dd05c73d7f",
   "metadata": {},
   "outputs": [
    {
     "name": "stderr",
     "output_type": "stream",
     "text": [
      "[Parallel(n_jobs=12)]: Using backend ThreadingBackend with 12 concurrent workers.\n",
      "[Parallel(n_jobs=12)]: Done  26 tasks      | elapsed:   13.3s\n",
      "[Parallel(n_jobs=12)]: Done 100 out of 100 | elapsed:   39.1s finished\n"
     ]
    }
   ],
   "source": [
    "y_train_pred = clf.predict(X_train)"
   ]
  },
  {
   "cell_type": "code",
   "execution_count": 48,
   "id": "38372554-40d7-4770-82e8-b278a0daa4d4",
   "metadata": {},
   "outputs": [
    {
     "name": "stdout",
     "output_type": "stream",
     "text": [
      "              precision    recall  f1-score   support\n",
      "\n",
      "         0.0       1.00      1.00      1.00   3479241\n",
      "         1.0       1.00      1.00      1.00    293559\n",
      "\n",
      "    accuracy                           1.00   3772800\n",
      "   macro avg       1.00      1.00      1.00   3772800\n",
      "weighted avg       1.00      1.00      1.00   3772800\n",
      "\n"
     ]
    }
   ],
   "source": [
    "print(classification_report(y_train_pred, y_train))"
   ]
  },
  {
   "cell_type": "code",
   "execution_count": 49,
   "id": "fda218f0-c1e2-4a0f-ae56-8f54a9b5f3cf",
   "metadata": {},
   "outputs": [
    {
     "data": {
      "text/plain": [
       "array([[3479114,     127],\n",
       "       [      0,  293559]], dtype=int64)"
      ]
     },
     "execution_count": 49,
     "metadata": {},
     "output_type": "execute_result"
    }
   ],
   "source": [
    "confusion_matrix(y_train_pred, y_train)"
   ]
  },
  {
   "cell_type": "code",
   "execution_count": 71,
   "id": "38583d58-98ec-4ab4-98ce-971bad7a3f27",
   "metadata": {},
   "outputs": [
    {
     "name": "stderr",
     "output_type": "stream",
     "text": [
      "[Parallel(n_jobs=12)]: Using backend ThreadingBackend with 12 concurrent workers.\n",
      "[Parallel(n_jobs=12)]: Done  26 tasks      | elapsed:    2.7s\n",
      "[Parallel(n_jobs=12)]: Done 100 out of 100 | elapsed:    8.6s finished\n"
     ]
    }
   ],
   "source": [
    "y_val_pred = clf.predict(X_val)"
   ]
  },
  {
   "cell_type": "code",
   "execution_count": 72,
   "id": "beb27d41-75fe-436b-a2a7-bf7473759937",
   "metadata": {},
   "outputs": [
    {
     "name": "stdout",
     "output_type": "stream",
     "text": [
      "              precision    recall  f1-score   support\n",
      "\n",
      "         0.0       1.00      0.92      0.96    799510\n",
      "         1.0       0.00      0.10      0.00        79\n",
      "\n",
      "    accuracy                           0.92    799589\n",
      "   macro avg       0.50      0.51      0.48    799589\n",
      "weighted avg       1.00      0.92      0.96    799589\n",
      "\n"
     ]
    }
   ],
   "source": [
    "print(classification_report(y_val_pred, y_val))"
   ]
  },
  {
   "cell_type": "code",
   "execution_count": 73,
   "id": "120c445c-7bbd-4687-8d82-4b22c1e8d745",
   "metadata": {},
   "outputs": [
    {
     "data": {
      "text/plain": [
       "array([[738685,  60825],\n",
       "       [    71,      8]], dtype=int64)"
      ]
     },
     "execution_count": 73,
     "metadata": {},
     "output_type": "execute_result"
    }
   ],
   "source": [
    "confusion_matrix(y_val_pred, y_val)"
   ]
  },
  {
   "cell_type": "code",
   "execution_count": 53,
   "id": "1c077f6b-df9e-42d4-9e5d-5b07f2c3f8fd",
   "metadata": {},
   "outputs": [
    {
     "data": {
      "text/plain": [
       "array([0.0716696 , 0.06364699, 0.06064752, 0.06046184, 0.05990688,\n",
       "       0.05989372, 0.05919757, 0.06014062, 0.06027722, 0.06030549,\n",
       "       0.06097243, 0.06170356, 0.06652786, 0.06648474, 0.06352924,\n",
       "       0.06463474])"
      ]
     },
     "execution_count": 53,
     "metadata": {},
     "output_type": "execute_result"
    }
   ],
   "source": [
    "clf.feature_importances_"
   ]
  },
  {
   "cell_type": "code",
   "execution_count": 74,
   "id": "43ec412d-c16c-4590-aee7-8344bce2143b",
   "metadata": {},
   "outputs": [
    {
     "name": "stderr",
     "output_type": "stream",
     "text": [
      "[Parallel(n_jobs=-1)]: Using backend ThreadingBackend with 12 concurrent workers.\n",
      "[Parallel(n_jobs=-1)]: Done  26 tasks      | elapsed:  4.1min\n",
      "[Parallel(n_jobs=-1)]: Done 100 out of 100 | elapsed: 12.0min finished\n"
     ]
    },
    {
     "data": {
      "text/plain": [
       "RandomForestClassifier(class_weight='balanced', n_jobs=-1, random_state=42,\n",
       "                       verbose=1)"
      ]
     },
     "execution_count": 74,
     "metadata": {},
     "output_type": "execute_result"
    }
   ],
   "source": [
    "clf = RandomForestClassifier(class_weight='balanced', random_state=42, verbose=1, n_jobs=-1)\n",
    "clf.fit(X_train, y_train)"
   ]
  },
  {
   "cell_type": "code",
   "execution_count": 75,
   "id": "78d21a45-0624-4dc3-be6e-c19e086f5d3c",
   "metadata": {},
   "outputs": [
    {
     "name": "stderr",
     "output_type": "stream",
     "text": [
      "[Parallel(n_jobs=12)]: Using backend ThreadingBackend with 12 concurrent workers.\n",
      "[Parallel(n_jobs=12)]: Done  26 tasks      | elapsed:   11.1s\n",
      "[Parallel(n_jobs=12)]: Done 100 out of 100 | elapsed:   34.1s finished\n"
     ]
    },
    {
     "name": "stdout",
     "output_type": "stream",
     "text": [
      "              precision    recall  f1-score   support\n",
      "\n",
      "         0.0       1.00      1.00      1.00   3479264\n",
      "         1.0       1.00      1.00      1.00    293536\n",
      "\n",
      "    accuracy                           1.00   3772800\n",
      "   macro avg       1.00      1.00      1.00   3772800\n",
      "weighted avg       1.00      1.00      1.00   3772800\n",
      "\n"
     ]
    },
    {
     "data": {
      "text/plain": [
       "array([[3479114,     150],\n",
       "       [      0,  293536]], dtype=int64)"
      ]
     },
     "execution_count": 75,
     "metadata": {},
     "output_type": "execute_result"
    }
   ],
   "source": [
    "y_train_pred = clf.predict(X_train)\n",
    "print(classification_report(y_train_pred, y_train))\n",
    "confusion_matrix(y_train_pred, y_train)"
   ]
  },
  {
   "cell_type": "code",
   "execution_count": 76,
   "id": "0175157e-143e-4cee-ae2f-780b613a95c1",
   "metadata": {},
   "outputs": [
    {
     "name": "stderr",
     "output_type": "stream",
     "text": [
      "[Parallel(n_jobs=12)]: Using backend ThreadingBackend with 12 concurrent workers.\n",
      "[Parallel(n_jobs=12)]: Done  26 tasks      | elapsed:    2.4s\n",
      "[Parallel(n_jobs=12)]: Done 100 out of 100 | elapsed:    7.4s finished\n"
     ]
    },
    {
     "name": "stdout",
     "output_type": "stream",
     "text": [
      "              precision    recall  f1-score   support\n",
      "\n",
      "         0.0       1.00      0.92      0.96    799510\n",
      "         1.0       0.00      0.11      0.00        79\n",
      "\n",
      "    accuracy                           0.92    799589\n",
      "   macro avg       0.50      0.52      0.48    799589\n",
      "weighted avg       1.00      0.92      0.96    799589\n",
      "\n"
     ]
    },
    {
     "data": {
      "text/plain": [
       "array([[738686,  60824],\n",
       "       [    70,      9]], dtype=int64)"
      ]
     },
     "execution_count": 76,
     "metadata": {},
     "output_type": "execute_result"
    }
   ],
   "source": [
    "y_val_pred = clf.predict(X_val)\n",
    "print(classification_report(y_val_pred, y_val))\n",
    "confusion_matrix(y_val_pred, y_val)"
   ]
  },
  {
   "cell_type": "code",
   "execution_count": 77,
   "id": "70bdbbb6-3653-46ee-bdbe-b2734263ea7d",
   "metadata": {},
   "outputs": [
    {
     "name": "stderr",
     "output_type": "stream",
     "text": [
      "[Parallel(n_jobs=-1)]: Using backend ThreadingBackend with 12 concurrent workers.\n",
      "[Parallel(n_jobs=-1)]: Done  26 tasks      | elapsed:  1.3min\n",
      "[Parallel(n_jobs=-1)]: Done 100 out of 100 | elapsed:  3.8min finished\n"
     ]
    },
    {
     "data": {
      "text/plain": [
       "RandomForestClassifier(max_depth=5, n_jobs=-1, random_state=42, verbose=1)"
      ]
     },
     "execution_count": 77,
     "metadata": {},
     "output_type": "execute_result"
    }
   ],
   "source": [
    "clf = RandomForestClassifier(max_depth=5, random_state=42, verbose=1, n_jobs=-1)\n",
    "clf.fit(X_train, y_train)"
   ]
  },
  {
   "cell_type": "code",
   "execution_count": 78,
   "id": "360dcdf0-dfa6-4b9f-a2cf-7060e022bca7",
   "metadata": {},
   "outputs": [
    {
     "name": "stderr",
     "output_type": "stream",
     "text": [
      "[Parallel(n_jobs=12)]: Using backend ThreadingBackend with 12 concurrent workers.\n",
      "[Parallel(n_jobs=12)]: Done  26 tasks      | elapsed:    1.9s\n",
      "[Parallel(n_jobs=12)]: Done 100 out of 100 | elapsed:    6.6s finished\n",
      "C:\\Users\\mariz\\anaconda3\\lib\\site-packages\\sklearn\\metrics\\_classification.py:1248: UndefinedMetricWarning: Recall and F-score are ill-defined and being set to 0.0 in labels with no true samples. Use `zero_division` parameter to control this behavior.\n",
      "  _warn_prf(average, modifier, msg_start, len(result))\n",
      "C:\\Users\\mariz\\anaconda3\\lib\\site-packages\\sklearn\\metrics\\_classification.py:1248: UndefinedMetricWarning: Recall and F-score are ill-defined and being set to 0.0 in labels with no true samples. Use `zero_division` parameter to control this behavior.\n",
      "  _warn_prf(average, modifier, msg_start, len(result))\n",
      "C:\\Users\\mariz\\anaconda3\\lib\\site-packages\\sklearn\\metrics\\_classification.py:1248: UndefinedMetricWarning: Recall and F-score are ill-defined and being set to 0.0 in labels with no true samples. Use `zero_division` parameter to control this behavior.\n",
      "  _warn_prf(average, modifier, msg_start, len(result))\n"
     ]
    },
    {
     "name": "stdout",
     "output_type": "stream",
     "text": [
      "              precision    recall  f1-score   support\n",
      "\n",
      "         0.0       1.00      0.92      0.96   3772800\n",
      "         1.0       0.00      0.00      0.00         0\n",
      "\n",
      "    accuracy                           0.92   3772800\n",
      "   macro avg       0.50      0.46      0.48   3772800\n",
      "weighted avg       1.00      0.92      0.96   3772800\n",
      "\n"
     ]
    },
    {
     "data": {
      "text/plain": [
       "array([[3479114,  293686],\n",
       "       [      0,       0]], dtype=int64)"
      ]
     },
     "execution_count": 78,
     "metadata": {},
     "output_type": "execute_result"
    }
   ],
   "source": [
    "y_train_pred = clf.predict(X_train)\n",
    "print(classification_report(y_train_pred, y_train))\n",
    "confusion_matrix(y_train_pred, y_train)"
   ]
  },
  {
   "cell_type": "code",
   "execution_count": 79,
   "id": "2162bdb8-014c-47bf-b306-4ee0fa8908a5",
   "metadata": {},
   "outputs": [
    {
     "name": "stderr",
     "output_type": "stream",
     "text": [
      "[Parallel(n_jobs=12)]: Using backend ThreadingBackend with 12 concurrent workers.\n",
      "[Parallel(n_jobs=12)]: Done  26 tasks      | elapsed:    0.3s\n",
      "[Parallel(n_jobs=12)]: Done 100 out of 100 | elapsed:    1.3s finished\n",
      "C:\\Users\\mariz\\anaconda3\\lib\\site-packages\\sklearn\\metrics\\_classification.py:1248: UndefinedMetricWarning: Recall and F-score are ill-defined and being set to 0.0 in labels with no true samples. Use `zero_division` parameter to control this behavior.\n",
      "  _warn_prf(average, modifier, msg_start, len(result))\n",
      "C:\\Users\\mariz\\anaconda3\\lib\\site-packages\\sklearn\\metrics\\_classification.py:1248: UndefinedMetricWarning: Recall and F-score are ill-defined and being set to 0.0 in labels with no true samples. Use `zero_division` parameter to control this behavior.\n",
      "  _warn_prf(average, modifier, msg_start, len(result))\n",
      "C:\\Users\\mariz\\anaconda3\\lib\\site-packages\\sklearn\\metrics\\_classification.py:1248: UndefinedMetricWarning: Recall and F-score are ill-defined and being set to 0.0 in labels with no true samples. Use `zero_division` parameter to control this behavior.\n",
      "  _warn_prf(average, modifier, msg_start, len(result))\n"
     ]
    },
    {
     "name": "stdout",
     "output_type": "stream",
     "text": [
      "              precision    recall  f1-score   support\n",
      "\n",
      "         0.0       1.00      0.92      0.96    799589\n",
      "         1.0       0.00      0.00      0.00         0\n",
      "\n",
      "    accuracy                           0.92    799589\n",
      "   macro avg       0.50      0.46      0.48    799589\n",
      "weighted avg       1.00      0.92      0.96    799589\n",
      "\n"
     ]
    },
    {
     "data": {
      "text/plain": [
       "array([[738756,  60833],\n",
       "       [     0,      0]], dtype=int64)"
      ]
     },
     "execution_count": 79,
     "metadata": {},
     "output_type": "execute_result"
    }
   ],
   "source": [
    "y_val_pred = clf.predict(X_val)\n",
    "print(classification_report(y_val_pred, y_val))\n",
    "confusion_matrix(y_val_pred, y_val)"
   ]
  },
  {
   "cell_type": "code",
   "execution_count": 80,
   "id": "46186b9e-0e78-4b91-a635-4eb4d8171d32",
   "metadata": {},
   "outputs": [
    {
     "name": "stderr",
     "output_type": "stream",
     "text": [
      "[Parallel(n_jobs=-1)]: Using backend ThreadingBackend with 12 concurrent workers.\n",
      "[Parallel(n_jobs=-1)]: Done  26 tasks      | elapsed:  2.2min\n",
      "[Parallel(n_jobs=-1)]: Done 100 out of 100 | elapsed:  6.3min finished\n"
     ]
    },
    {
     "data": {
      "text/plain": [
       "RandomForestClassifier(max_depth=10, n_jobs=-1, random_state=42, verbose=1)"
      ]
     },
     "execution_count": 80,
     "metadata": {},
     "output_type": "execute_result"
    }
   ],
   "source": [
    "clf = RandomForestClassifier(max_depth=10, random_state=42, verbose=1, n_jobs=-1)\n",
    "clf.fit(X_train, y_train)"
   ]
  },
  {
   "cell_type": "code",
   "execution_count": 81,
   "id": "0417f3f1-4bfc-4484-bad0-8b2d42c2a6b0",
   "metadata": {},
   "outputs": [
    {
     "name": "stderr",
     "output_type": "stream",
     "text": [
      "[Parallel(n_jobs=12)]: Using backend ThreadingBackend with 12 concurrent workers.\n",
      "[Parallel(n_jobs=12)]: Done  26 tasks      | elapsed:    2.6s\n",
      "[Parallel(n_jobs=12)]: Done 100 out of 100 | elapsed:    8.3s finished\n"
     ]
    },
    {
     "name": "stdout",
     "output_type": "stream",
     "text": [
      "              precision    recall  f1-score   support\n",
      "\n",
      "         0.0       1.00      0.92      0.96   3772795\n",
      "         1.0       0.00      1.00      0.00         5\n",
      "\n",
      "    accuracy                           0.92   3772800\n",
      "   macro avg       0.50      0.96      0.48   3772800\n",
      "weighted avg       1.00      0.92      0.96   3772800\n",
      "\n"
     ]
    },
    {
     "data": {
      "text/plain": [
       "array([[3479114,  293681],\n",
       "       [      0,       5]], dtype=int64)"
      ]
     },
     "execution_count": 81,
     "metadata": {},
     "output_type": "execute_result"
    }
   ],
   "source": [
    "y_train_pred = clf.predict(X_train)\n",
    "print(classification_report(y_train_pred, y_train))\n",
    "confusion_matrix(y_train_pred, y_train)"
   ]
  },
  {
   "cell_type": "code",
   "execution_count": 82,
   "id": "c4bd2053-22ab-475a-a808-eb9cf8aba8c0",
   "metadata": {},
   "outputs": [
    {
     "name": "stderr",
     "output_type": "stream",
     "text": [
      "[Parallel(n_jobs=12)]: Using backend ThreadingBackend with 12 concurrent workers.\n",
      "[Parallel(n_jobs=12)]: Done  26 tasks      | elapsed:    0.5s\n",
      "[Parallel(n_jobs=12)]: Done 100 out of 100 | elapsed:    1.8s finished\n",
      "C:\\Users\\mariz\\anaconda3\\lib\\site-packages\\sklearn\\metrics\\_classification.py:1248: UndefinedMetricWarning: Recall and F-score are ill-defined and being set to 0.0 in labels with no true samples. Use `zero_division` parameter to control this behavior.\n",
      "  _warn_prf(average, modifier, msg_start, len(result))\n",
      "C:\\Users\\mariz\\anaconda3\\lib\\site-packages\\sklearn\\metrics\\_classification.py:1248: UndefinedMetricWarning: Recall and F-score are ill-defined and being set to 0.0 in labels with no true samples. Use `zero_division` parameter to control this behavior.\n",
      "  _warn_prf(average, modifier, msg_start, len(result))\n",
      "C:\\Users\\mariz\\anaconda3\\lib\\site-packages\\sklearn\\metrics\\_classification.py:1248: UndefinedMetricWarning: Recall and F-score are ill-defined and being set to 0.0 in labels with no true samples. Use `zero_division` parameter to control this behavior.\n",
      "  _warn_prf(average, modifier, msg_start, len(result))\n"
     ]
    },
    {
     "name": "stdout",
     "output_type": "stream",
     "text": [
      "              precision    recall  f1-score   support\n",
      "\n",
      "         0.0       1.00      0.92      0.96    799589\n",
      "         1.0       0.00      0.00      0.00         0\n",
      "\n",
      "    accuracy                           0.92    799589\n",
      "   macro avg       0.50      0.46      0.48    799589\n",
      "weighted avg       1.00      0.92      0.96    799589\n",
      "\n"
     ]
    },
    {
     "data": {
      "text/plain": [
       "array([[738756,  60833],\n",
       "       [     0,      0]], dtype=int64)"
      ]
     },
     "execution_count": 82,
     "metadata": {},
     "output_type": "execute_result"
    }
   ],
   "source": [
    "y_val_pred = clf.predict(X_val)\n",
    "print(classification_report(y_val_pred, y_val))\n",
    "confusion_matrix(y_val_pred, y_val)"
   ]
  },
  {
   "cell_type": "code",
   "execution_count": 83,
   "id": "9f0bd218-8936-4636-8df4-fc413c08272f",
   "metadata": {},
   "outputs": [
    {
     "name": "stderr",
     "output_type": "stream",
     "text": [
      "[Parallel(n_jobs=-1)]: Using backend ThreadingBackend with 12 concurrent workers.\n",
      "[Parallel(n_jobs=-1)]: Done  26 tasks      | elapsed:  2.9min\n",
      "[Parallel(n_jobs=-1)]: Done 100 out of 100 | elapsed:  8.4min finished\n"
     ]
    },
    {
     "data": {
      "text/plain": [
       "RandomForestClassifier(max_depth=15, n_jobs=-1, random_state=42, verbose=1)"
      ]
     },
     "execution_count": 83,
     "metadata": {},
     "output_type": "execute_result"
    }
   ],
   "source": [
    "clf = RandomForestClassifier(max_depth=15, random_state=42, verbose=1, n_jobs=-1)\n",
    "clf.fit(X_train, y_train)"
   ]
  },
  {
   "cell_type": "code",
   "execution_count": 84,
   "id": "b8a7b6b4-1933-47b7-9aa8-e7ba3a5bf460",
   "metadata": {},
   "outputs": [
    {
     "name": "stderr",
     "output_type": "stream",
     "text": [
      "[Parallel(n_jobs=12)]: Using backend ThreadingBackend with 12 concurrent workers.\n",
      "[Parallel(n_jobs=12)]: Done  26 tasks      | elapsed:    3.7s\n",
      "[Parallel(n_jobs=12)]: Done 100 out of 100 | elapsed:   11.4s finished\n"
     ]
    },
    {
     "name": "stdout",
     "output_type": "stream",
     "text": [
      "              precision    recall  f1-score   support\n",
      "\n",
      "         0.0       1.00      0.92      0.96   3772426\n",
      "         1.0       0.00      1.00      0.00       374\n",
      "\n",
      "    accuracy                           0.92   3772800\n",
      "   macro avg       0.50      0.96      0.48   3772800\n",
      "weighted avg       1.00      0.92      0.96   3772800\n",
      "\n"
     ]
    },
    {
     "data": {
      "text/plain": [
       "array([[3479114,  293312],\n",
       "       [      0,     374]], dtype=int64)"
      ]
     },
     "execution_count": 84,
     "metadata": {},
     "output_type": "execute_result"
    }
   ],
   "source": [
    "y_train_pred = clf.predict(X_train)\n",
    "print(classification_report(y_train_pred, y_train))\n",
    "confusion_matrix(y_train_pred, y_train)"
   ]
  },
  {
   "cell_type": "code",
   "execution_count": 85,
   "id": "a1fa42ea-510e-4628-8832-22900127e643",
   "metadata": {},
   "outputs": [
    {
     "name": "stderr",
     "output_type": "stream",
     "text": [
      "[Parallel(n_jobs=12)]: Using backend ThreadingBackend with 12 concurrent workers.\n",
      "[Parallel(n_jobs=12)]: Done  26 tasks      | elapsed:    0.7s\n",
      "[Parallel(n_jobs=12)]: Done 100 out of 100 | elapsed:    2.4s finished\n",
      "C:\\Users\\mariz\\anaconda3\\lib\\site-packages\\sklearn\\metrics\\_classification.py:1248: UndefinedMetricWarning: Recall and F-score are ill-defined and being set to 0.0 in labels with no true samples. Use `zero_division` parameter to control this behavior.\n",
      "  _warn_prf(average, modifier, msg_start, len(result))\n",
      "C:\\Users\\mariz\\anaconda3\\lib\\site-packages\\sklearn\\metrics\\_classification.py:1248: UndefinedMetricWarning: Recall and F-score are ill-defined and being set to 0.0 in labels with no true samples. Use `zero_division` parameter to control this behavior.\n",
      "  _warn_prf(average, modifier, msg_start, len(result))\n",
      "C:\\Users\\mariz\\anaconda3\\lib\\site-packages\\sklearn\\metrics\\_classification.py:1248: UndefinedMetricWarning: Recall and F-score are ill-defined and being set to 0.0 in labels with no true samples. Use `zero_division` parameter to control this behavior.\n",
      "  _warn_prf(average, modifier, msg_start, len(result))\n"
     ]
    },
    {
     "name": "stdout",
     "output_type": "stream",
     "text": [
      "              precision    recall  f1-score   support\n",
      "\n",
      "         0.0       1.00      0.92      0.96    799589\n",
      "         1.0       0.00      0.00      0.00         0\n",
      "\n",
      "    accuracy                           0.92    799589\n",
      "   macro avg       0.50      0.46      0.48    799589\n",
      "weighted avg       1.00      0.92      0.96    799589\n",
      "\n"
     ]
    },
    {
     "data": {
      "text/plain": [
       "array([[738756,  60833],\n",
       "       [     0,      0]], dtype=int64)"
      ]
     },
     "execution_count": 85,
     "metadata": {},
     "output_type": "execute_result"
    }
   ],
   "source": [
    "y_val_pred = clf.predict(X_val)\n",
    "print(classification_report(y_val_pred, y_val))\n",
    "confusion_matrix(y_val_pred, y_val)"
   ]
  },
  {
   "cell_type": "code",
   "execution_count": 86,
   "id": "9035396e-d85c-42fb-af2e-98f407903696",
   "metadata": {},
   "outputs": [
    {
     "name": "stderr",
     "output_type": "stream",
     "text": [
      "[Parallel(n_jobs=-1)]: Using backend ThreadingBackend with 12 concurrent workers.\n",
      "[Parallel(n_jobs=-1)]: Done  26 tasks      | elapsed:  3.7min\n",
      "[Parallel(n_jobs=-1)]: Done 100 out of 100 | elapsed: 12.2min finished\n"
     ]
    },
    {
     "data": {
      "text/plain": [
       "RandomForestClassifier(max_depth=20, n_jobs=-1, random_state=42, verbose=1)"
      ]
     },
     "execution_count": 86,
     "metadata": {},
     "output_type": "execute_result"
    }
   ],
   "source": [
    "clf = RandomForestClassifier(max_depth=20, random_state=42, verbose=1, n_jobs=-1)\n",
    "clf.fit(X_train, y_train)"
   ]
  },
  {
   "cell_type": "code",
   "execution_count": 88,
   "id": "1d00a878-d1dd-4250-a400-d61ddd41e1d7",
   "metadata": {},
   "outputs": [
    {
     "name": "stderr",
     "output_type": "stream",
     "text": [
      "[Parallel(n_jobs=12)]: Using backend ThreadingBackend with 12 concurrent workers.\n",
      "[Parallel(n_jobs=12)]: Done  26 tasks      | elapsed:    8.4s\n",
      "[Parallel(n_jobs=12)]: Done 100 out of 100 | elapsed:   25.3s finished\n"
     ]
    },
    {
     "name": "stdout",
     "output_type": "stream",
     "text": [
      "              precision    recall  f1-score   support\n",
      "\n",
      "         0.0       1.00      0.92      0.96   3769025\n",
      "         1.0       0.01      1.00      0.03      3775\n",
      "\n",
      "    accuracy                           0.92   3772800\n",
      "   macro avg       0.51      0.96      0.49   3772800\n",
      "weighted avg       1.00      0.92      0.96   3772800\n",
      "\n"
     ]
    },
    {
     "data": {
      "text/plain": [
       "array([[3479111,  289914],\n",
       "       [      3,    3772]], dtype=int64)"
      ]
     },
     "execution_count": 88,
     "metadata": {},
     "output_type": "execute_result"
    }
   ],
   "source": [
    "y_train_pred = clf.predict(X_train)\n",
    "print(classification_report(y_train_pred, y_train))\n",
    "confusion_matrix(y_train_pred, y_train)"
   ]
  },
  {
   "cell_type": "code",
   "execution_count": 87,
   "id": "49fd50cd-1fbe-4a22-b7af-7bdb49de9c1c",
   "metadata": {},
   "outputs": [
    {
     "name": "stderr",
     "output_type": "stream",
     "text": [
      "[Parallel(n_jobs=12)]: Using backend ThreadingBackend with 12 concurrent workers.\n",
      "[Parallel(n_jobs=12)]: Done  26 tasks      | elapsed:    1.3s\n",
      "[Parallel(n_jobs=12)]: Done 100 out of 100 | elapsed:    5.0s finished\n"
     ]
    },
    {
     "name": "stdout",
     "output_type": "stream",
     "text": [
      "              precision    recall  f1-score   support\n",
      "\n",
      "         0.0       1.00      0.92      0.96    799573\n",
      "         1.0       0.00      0.06      0.00        16\n",
      "\n",
      "    accuracy                           0.92    799589\n",
      "   macro avg       0.50      0.49      0.48    799589\n",
      "weighted avg       1.00      0.92      0.96    799589\n",
      "\n"
     ]
    },
    {
     "data": {
      "text/plain": [
       "array([[738741,  60832],\n",
       "       [    15,      1]], dtype=int64)"
      ]
     },
     "execution_count": 87,
     "metadata": {},
     "output_type": "execute_result"
    }
   ],
   "source": [
    "y_val_pred = clf.predict(X_val)\n",
    "print(classification_report(y_val_pred, y_val))\n",
    "confusion_matrix(y_val_pred, y_val)"
   ]
  },
  {
   "cell_type": "code",
   "execution_count": null,
   "id": "ef008f50-a6d1-47cc-a05e-685473b05cee",
   "metadata": {},
   "outputs": [
    {
     "name": "stderr",
     "output_type": "stream",
     "text": [
      "[Parallel(n_jobs=-1)]: Using backend ThreadingBackend with 12 concurrent workers.\n",
      "[Parallel(n_jobs=-1)]: Done  26 tasks      | elapsed:  4.4min\n",
      "[Parallel(n_jobs=-1)]: Done 176 tasks      | elapsed: 23.3min\n",
      "[Parallel(n_jobs=-1)]: Done 426 tasks      | elapsed: 51.1min\n"
     ]
    }
   ],
   "source": [
    "clf = RandomForestClassifier(n_estimators=1000, max_depth=20, random_state=42, verbose=1, n_jobs=-1)\n",
    "clf.fit(X_train, y_train)"
   ]
  },
  {
   "cell_type": "code",
   "execution_count": null,
   "id": "1fe5b543-9449-418d-806c-466093595118",
   "metadata": {},
   "outputs": [],
   "source": [
    "y_train_pred = clf.predict(X_train)\n",
    "print(classification_report(y_train_pred, y_train))\n",
    "confusion_matrix(y_train_pred, y_train)"
   ]
  },
  {
   "cell_type": "code",
   "execution_count": null,
   "id": "f7fe90a6-bf3d-4fd5-801b-3f2aa68657d3",
   "metadata": {},
   "outputs": [],
   "source": [
    "y_val_pred = clf.predict(X_val)\n",
    "print(classification_report(y_val_pred, y_val))\n",
    "confusion_matrix(y_val_pred, y_val)"
   ]
  },
  {
   "cell_type": "code",
   "execution_count": null,
   "id": "410051ad-8547-46e0-9354-3c3d70545c3a",
   "metadata": {},
   "outputs": [],
   "source": []
  },
  {
   "cell_type": "code",
   "execution_count": null,
   "id": "151de86a-d7b2-4970-95e0-b4757f1a3cd7",
   "metadata": {},
   "outputs": [],
   "source": []
  },
  {
   "cell_type": "code",
   "execution_count": null,
   "id": "01025c77-c2ee-4aae-b469-f4136a849f44",
   "metadata": {},
   "outputs": [],
   "source": []
  },
  {
   "cell_type": "code",
   "execution_count": null,
   "id": "70b8183b-0f9c-451b-8205-edcd06fdc326",
   "metadata": {},
   "outputs": [],
   "source": []
  },
  {
   "cell_type": "code",
   "execution_count": 11,
   "id": "28a64f7c-2cec-4e98-8dd7-4dab4d6e254f",
   "metadata": {},
   "outputs": [],
   "source": [
    "el_X, el_y = get_xy('data/aaj/song.ogg', 'data/aaj/Easy.dat', 180)"
   ]
  },
  {
   "cell_type": "code",
   "execution_count": 13,
   "id": "14b87039-1bb2-451d-b141-bc9022b9ff14",
   "metadata": {},
   "outputs": [],
   "source": [
    "# read audio and calculate tempo\n",
    "y, sr = librosa.load('data/aaj/song.ogg')\n",
    "tempo = librosa.beat.tempo(y)\n",
    "\n",
    "# get spectrogram\n",
    "S = librosa.feature.melspectrogram(y, n_mels=16, hop_length=512)\n",
    "log_S = librosa.power_to_db(S)\n",
    "X = log_S.T"
   ]
  },
  {
   "cell_type": "code",
   "execution_count": 14,
   "id": "4f1d6bf4-7d10-4472-ba94-b92678645eda",
   "metadata": {},
   "outputs": [],
   "source": [
    "# read level\n",
    "with open('data/aaj/Easy.dat', 'r') as f:\n",
    "    data = json.load(f)\n",
    "    t = np.array(sorted(list(set([el['_time'] for el in data['_notes']]))))"
   ]
  },
  {
   "cell_type": "code",
   "execution_count": 20,
   "id": "598606f2-0828-4ca3-bcfc-1270bbd4a9ec",
   "metadata": {},
   "outputs": [],
   "source": [
    "mask = librosa.time_to_frames(t / 180 * 60, hop_length=512)"
   ]
  },
  {
   "cell_type": "code",
   "execution_count": 21,
   "id": "8b7b41d6-f434-4ede-91b3-d8992b03a6e2",
   "metadata": {},
   "outputs": [
    {
     "data": {
      "text/plain": [
       "array([  502,   509,   513, ..., 12561, 12568, 12575])"
      ]
     },
     "execution_count": 21,
     "metadata": {},
     "output_type": "execute_result"
    }
   ],
   "source": [
    "mask"
   ]
  },
  {
   "cell_type": "code",
   "execution_count": 18,
   "id": "6f89cf54-6526-4894-8b3d-93be1b8bb4cf",
   "metadata": {},
   "outputs": [
    {
     "data": {
      "text/plain": [
       "(16, 13021)"
      ]
     },
     "execution_count": 18,
     "metadata": {},
     "output_type": "execute_result"
    }
   ],
   "source": [
    "log_S.shape"
   ]
  },
  {
   "cell_type": "code",
   "execution_count": 19,
   "id": "59e29d39-c65f-4148-bf60-cefdfd860639",
   "metadata": {},
   "outputs": [
    {
     "data": {
      "text/plain": [
       "array([117.45383523])"
      ]
     },
     "execution_count": 19,
     "metadata": {},
     "output_type": "execute_result"
    }
   ],
   "source": [
    "tempo"
   ]
  },
  {
   "cell_type": "code",
   "execution_count": null,
   "id": "b0c373ee-a361-4d47-8406-11bd95bf8195",
   "metadata": {},
   "outputs": [],
   "source": []
  },
  {
   "cell_type": "code",
   "execution_count": null,
   "id": "b22da137-611b-4729-9e88-318b0adedb89",
   "metadata": {},
   "outputs": [],
   "source": []
  },
  {
   "cell_type": "code",
   "execution_count": null,
   "id": "4002f41a-c3b5-4296-a636-5c8f2c3fab72",
   "metadata": {},
   "outputs": [],
   "source": []
  },
  {
   "cell_type": "code",
   "execution_count": 291,
   "id": "1afdf1c1-31ac-4bf7-9d0f-9fecf0d72f67",
   "metadata": {},
   "outputs": [
    {
     "data": {
      "text/plain": [
       "(array([[-50.43511, -50.43511, -50.43511, ..., -50.43511, -50.43511,\n",
       "         -50.43511],\n",
       "        [-50.43511, -50.43511, -50.43511, ..., -50.43511, -50.43511,\n",
       "         -50.43511],\n",
       "        [-50.43511, -50.43511, -50.43511, ..., -50.43511, -50.43511,\n",
       "         -50.43511],\n",
       "        ...,\n",
       "        [-50.43511, -50.43511, -50.43511, ..., -50.43511, -50.43511,\n",
       "         -50.43511],\n",
       "        [-50.43511, -50.43511, -50.43511, ..., -50.43511, -50.43511,\n",
       "         -50.43511],\n",
       "        [-50.43511, -50.43511, -50.43511, ..., -50.43511, -50.43511,\n",
       "         -50.43511]], dtype=float32),\n",
       " array([0., 0., 0., ..., 0., 0., 0.]))"
      ]
     },
     "execution_count": 291,
     "metadata": {},
     "output_type": "execute_result"
    }
   ],
   "source": [
    "get_xy('data/amalfi/song.ogg', 'data/amalfi/Easy.dat')"
   ]
  },
  {
   "cell_type": "code",
   "execution_count": 238,
   "id": "62cc7354-eb4f-4f7a-bcdc-7a9e962fa7c1",
   "metadata": {},
   "outputs": [],
   "source": [
    "audio_path = 'data/amalfi/song.ogg'\n",
    "y, sr = librosa.load(audio_path)\n",
    "\n",
    "with open('data/amalfi/Easy.dat', 'r') as f:\n",
    "    data = json.load(f)\n",
    "    t = np.array(sorted(list(set([el['_time'] for el in data['_notes']]))))\n",
    "    \n",
    "tempo = librosa.beat.tempo(y)"
   ]
  },
  {
   "cell_type": "code",
   "execution_count": 239,
   "id": "b742e31c-f8ff-465d-8f81-a8ca1289e2a1",
   "metadata": {},
   "outputs": [
    {
     "data": {
      "text/plain": [
       "<matplotlib.colorbar.Colorbar at 0x1b6237b6e50>"
      ]
     },
     "execution_count": 239,
     "metadata": {},
     "output_type": "execute_result"
    },
    {
     "data": {
      "image/png": "[encoded data removed]",
      "text/plain": [
       "<Figure size 864x432 with 2 Axes>"
      ]
     },
     "metadata": {
      "needs_background": "light"
     },
     "output_type": "display_data"
    }
   ],
   "source": [
    "fig, ax = plt.subplots(figsize=(12, 6))\n",
    "S = librosa.feature.melspectrogram(y, n_mels=16, hop_length=512)\n",
    "log_S = librosa.power_to_db(S)\n",
    "img = librosa.display.specshow(log_S, x_axis='time', y_axis='mel', sr=sr, ax=ax)\n",
    "fig.colorbar(img, ax=ax, format='%+2.0f dB')"
   ]
  },
  {
   "cell_type": "code",
   "execution_count": null,
   "id": "6fc61da3-628e-4995-a700-b6963f213b03",
   "metadata": {},
   "outputs": [],
   "source": []
  },
  {
   "cell_type": "code",
   "execution_count": null,
   "id": "43672625-e3d4-4fec-be68-8d9f9ce69e85",
   "metadata": {},
   "outputs": [],
   "source": []
  },
  {
   "cell_type": "code",
   "execution_count": null,
   "id": "f15837ce-94c7-47ce-90d1-ea208f1abd4e",
   "metadata": {},
   "outputs": [],
   "source": []
  },
  {
   "cell_type": "code",
   "execution_count": 244,
   "id": "3b7aa0cc-0ad7-4ab5-9f2a-d6277306c2cc",
   "metadata": {},
   "outputs": [
    {
     "data": {
      "text/plain": [
       "9531"
      ]
     },
     "execution_count": 244,
     "metadata": {},
     "output_type": "execute_result"
    }
   ],
   "source": [
    "log_S.shape[1]"
   ]
  },
  {
   "cell_type": "code",
   "execution_count": 241,
   "id": "564c866b-757f-458d-8865-6f4209a45e94",
   "metadata": {},
   "outputs": [],
   "source": [
    "mask = librosa.time_to_frames(t / tempo * 60, hop_length=512)"
   ]
  },
  {
   "cell_type": "code",
   "execution_count": 245,
   "id": "7bf6c3cf-cfff-4a10-9a48-61435d3e0cda",
   "metadata": {},
   "outputs": [],
   "source": [
    "res = np.zeros(log_S.shape[1])\n",
    "res[mask] = 1"
   ]
  },
  {
   "cell_type": "code",
   "execution_count": 246,
   "id": "f473d9c1-f861-4911-b6ef-5482e9ff57d9",
   "metadata": {},
   "outputs": [
    {
     "data": {
      "text/plain": [
       "(array([0., 1.]), array([8746,  785], dtype=int64))"
      ]
     },
     "execution_count": 246,
     "metadata": {},
     "output_type": "execute_result"
    }
   ],
   "source": [
    "np.unique(res, return_counts=True)"
   ]
  },
  {
   "cell_type": "code",
   "execution_count": 247,
   "id": "249c26ef-bc94-44c6-9c61-600c2e66050c",
   "metadata": {},
   "outputs": [
    {
     "data": {
      "text/plain": [
       "array([[1.        , 0.05864586],\n",
       "       [0.05864586, 1.        ]])"
      ]
     },
     "execution_count": 247,
     "metadata": {},
     "output_type": "execute_result"
    }
   ],
   "source": [
    "np.corrcoef(log_S[15], res)"
   ]
  },
  {
   "cell_type": "code",
   "execution_count": 210,
   "id": "372f3e6e-705b-4229-b70e-7bf8634997b2",
   "metadata": {},
   "outputs": [
    {
     "data": {
      "text/plain": [
       "array([[-53.428787, -53.428787, -53.428787, ..., -53.428787, -53.428787,\n",
       "        -53.428787],\n",
       "       [-53.428787, -53.428787, -53.428787, ..., -53.428787, -53.428787,\n",
       "        -53.428787],\n",
       "       [-53.428787, -53.428787, -53.428787, ..., -53.428787, -53.428787,\n",
       "        -53.428787],\n",
       "       ...,\n",
       "       [-53.428787, -53.428787, -53.428787, ..., -53.428787, -53.428787,\n",
       "        -53.428787],\n",
       "       [-53.428787, -53.428787, -53.428787, ..., -53.428787, -53.428787,\n",
       "        -53.428787],\n",
       "       [-53.428787, -53.428787, -53.428787, ..., -53.428787, -53.428787,\n",
       "        -53.428787]], dtype=float32)"
      ]
     },
     "execution_count": 210,
     "metadata": {},
     "output_type": "execute_result"
    }
   ],
   "source": [
    "log_S"
   ]
  },
  {
   "cell_type": "code",
   "execution_count": 248,
   "id": "60781764-501d-4957-9171-6eee480adea4",
   "metadata": {},
   "outputs": [],
   "source": []
  },
  {
   "cell_type": "code",
   "execution_count": 249,
   "id": "35fc95fb-e8f4-4a47-b013-8152a27ae113",
   "metadata": {},
   "outputs": [],
   "source": [
    "X = log_S.T"
   ]
  },
  {
   "cell_type": "code",
   "execution_count": 250,
   "id": "c2336319-0991-43cd-8c10-3907208fa1a5",
   "metadata": {},
   "outputs": [
    {
     "data": {
      "text/plain": [
       "RandomForestClassifier(random_state=42)"
      ]
     },
     "execution_count": 250,
     "metadata": {},
     "output_type": "execute_result"
    }
   ],
   "source": [
    "clf = RandomForestClassifier(random_state=42)\n",
    "clf.fit(X, res)"
   ]
  },
  {
   "cell_type": "code",
   "execution_count": 251,
   "id": "a19eb165-6f61-4891-b7c3-7e490fba2b74",
   "metadata": {},
   "outputs": [
    {
     "data": {
      "text/plain": [
       "0.9998950792151925"
      ]
     },
     "execution_count": 251,
     "metadata": {},
     "output_type": "execute_result"
    }
   ],
   "source": [
    "clf.score(X, res)"
   ]
  },
  {
   "cell_type": "code",
   "execution_count": 252,
   "id": "b37df76b-514f-444e-a9b5-db7943f8a815",
   "metadata": {},
   "outputs": [],
   "source": [
    "y_pred = clf.predict(X)"
   ]
  },
  {
   "cell_type": "code",
   "execution_count": 253,
   "id": "99d4aacc-8a08-40e0-a848-38e5a0fdf460",
   "metadata": {},
   "outputs": [
    {
     "data": {
      "text/plain": [
       "(9531, 9531)"
      ]
     },
     "execution_count": 253,
     "metadata": {},
     "output_type": "execute_result"
    }
   ],
   "source": [
    "len(y_pred), len(res)"
   ]
  },
  {
   "cell_type": "code",
   "execution_count": 254,
   "id": "233ed866-f65d-4271-9e30-c76086c91a73",
   "metadata": {},
   "outputs": [
    {
     "name": "stdout",
     "output_type": "stream",
     "text": [
      "              precision    recall  f1-score   support\n",
      "\n",
      "         0.0       1.00      1.00      1.00      8746\n",
      "         1.0       1.00      1.00      1.00       785\n",
      "\n",
      "    accuracy                           1.00      9531\n",
      "   macro avg       1.00      1.00      1.00      9531\n",
      "weighted avg       1.00      1.00      1.00      9531\n",
      "\n"
     ]
    }
   ],
   "source": [
    "print(classification_report(res, y_pred))"
   ]
  },
  {
   "cell_type": "code",
   "execution_count": 255,
   "id": "ccce0114-41f0-4b9c-b348-2414d8e1d9fa",
   "metadata": {},
   "outputs": [
    {
     "data": {
      "text/plain": [
       "array([[8746,    0],\n",
       "       [   1,  784]], dtype=int64)"
      ]
     },
     "execution_count": 255,
     "metadata": {},
     "output_type": "execute_result"
    }
   ],
   "source": [
    "confusion_matrix(res, y_pred)"
   ]
  },
  {
   "cell_type": "code",
   "execution_count": null,
   "id": "ca824ead-77e6-4bac-a15c-b8daac23f130",
   "metadata": {},
   "outputs": [],
   "source": []
  },
  {
   "cell_type": "code",
   "execution_count": null,
   "id": "ea6629ae-817b-44ba-9d67-30985c763c97",
   "metadata": {},
   "outputs": [],
   "source": []
  },
  {
   "cell_type": "code",
   "execution_count": 94,
   "id": "d78d41eb-246c-4d04-bbb6-b803b66bd6ea",
   "metadata": {},
   "outputs": [
    {
     "data": {
      "text/plain": [
       "[<matplotlib.lines.Line2D at 0x1b60955e820>]"
      ]
     },
     "execution_count": 94,
     "metadata": {},
     "output_type": "execute_result"
    },
    {
     "data": {
      "image/png": "[encoded data removed]",
      "text/plain": [
       "<Figure size 432x288 with 1 Axes>"
      ]
     },
     "metadata": {
      "needs_background": "light"
     },
     "output_type": "display_data"
    }
   ],
   "source": [
    "plt.plot(t)"
   ]
  },
  {
   "cell_type": "code",
   "execution_count": 81,
   "id": "2069fc38-fcf2-4ee8-be9e-86039fd76ce2",
   "metadata": {},
   "outputs": [
    {
     "data": {
      "text/plain": [
       "<matplotlib.collections.PolyCollection at 0x1b600d02400>"
      ]
     },
     "execution_count": 81,
     "metadata": {},
     "output_type": "execute_result"
    },
    {
     "data": {
      "image/png": "[encoded data removed]",
      "text/plain": [
       "<Figure size 1152x360 with 1 Axes>"
      ]
     },
     "metadata": {
      "needs_background": "light"
     },
     "output_type": "display_data"
    }
   ],
   "source": [
    "plt.figure(figsize=(16, 5))\n",
    "librosa.display.waveplot(y)"
   ]
  },
  {
   "cell_type": "code",
   "execution_count": 9,
   "id": "d8e7759e-71b2-45b8-968d-cb834cfe2706",
   "metadata": {},
   "outputs": [
    {
     "data": {
      "text/plain": [
       "[<matplotlib.lines.Line2D at 0x1b6561dcca0>]"
      ]
     },
     "execution_count": 9,
     "metadata": {},
     "output_type": "execute_result"
    },
    {
     "data": {
      "image/png": "[encoded data removed]",
      "text/plain": [
       "<Figure size 432x288 with 1 Axes>"
      ]
     },
     "metadata": {
      "needs_background": "light"
     },
     "output_type": "display_data"
    }
   ],
   "source": [
    "plt.plot(mfcc[0])"
   ]
  },
  {
   "cell_type": "code",
   "execution_count": 14,
   "id": "4c50a710-1dda-401f-8f61-d79b45ad68bc",
   "metadata": {},
   "outputs": [],
   "source": [
    "t = t / (tempo * dur / 60) * mfcc.shape[1] # normalize to 1 and turn into mfcc dimention\n",
    "t = np.isin(np.arange(0, mfcc.shape[1]), t.astype(int)).astype(int) # put 0 if index not in t else 1"
   ]
  },
  {
   "cell_type": "code",
   "execution_count": 24,
   "id": "a985b856-5ec1-480f-8955-364aad529e5b",
   "metadata": {},
   "outputs": [
    {
     "data": {
      "text/plain": [
       "[<matplotlib.lines.Line2D at 0x1b6563ce460>]"
      ]
     },
     "execution_count": 24,
     "metadata": {},
     "output_type": "execute_result"
    },
    {
     "data": {
      "image/png": "[encoded data removed]",
      "text/plain": [
       "<Figure size 432x288 with 1 Axes>"
      ]
     },
     "metadata": {
      "needs_background": "light"
     },
     "output_type": "display_data"
    }
   ],
   "source": [
    "plt.plot(t[400:1000])"
   ]
  },
  {
   "cell_type": "code",
   "execution_count": 27,
   "id": "98a3186b-e979-4b7d-a2a1-f621a7133977",
   "metadata": {},
   "outputs": [
    {
     "data": {
      "text/plain": [
       "[<matplotlib.lines.Line2D at 0x1b655463c10>]"
      ]
     },
     "execution_count": 27,
     "metadata": {},
     "output_type": "execute_result"
    },
    {
     "data": {
      "image/png": "[encoded data removed]",
      "text/plain": [
       "<Figure size 432x288 with 1 Axes>"
      ]
     },
     "metadata": {
      "needs_background": "light"
     },
     "output_type": "display_data"
    }
   ],
   "source": [
    "plt.plot(mfcc[0, 400:1000])"
   ]
  },
  {
   "cell_type": "code",
   "execution_count": 17,
   "id": "6f10c83b-3272-4081-847a-8a0a444ae1c3",
   "metadata": {},
   "outputs": [
    {
     "data": {
      "text/plain": [
       "array([[1.        , 0.15514487],\n",
       "       [0.15514487, 1.        ]])"
      ]
     },
     "execution_count": 17,
     "metadata": {},
     "output_type": "execute_result"
    }
   ],
   "source": [
    "np.corrcoef(mfcc[0], t)"
   ]
  },
  {
   "cell_type": "code",
   "execution_count": 45,
   "id": "4cf03745-1a1b-47bd-a2f9-f2707674fc13",
   "metadata": {},
   "outputs": [
    {
     "data": {
      "text/plain": [
       "[<matplotlib.lines.Line2D at 0x1b657a0e610>]"
      ]
     },
     "execution_count": 45,
     "metadata": {},
     "output_type": "execute_result"
    },
    {
     "data": {
      "image/png": "[encoded data removed]",
      "text/plain": [
       "<Figure size 432x288 with 1 Axes>"
      ]
     },
     "metadata": {
      "needs_background": "light"
     },
     "output_type": "display_data"
    }
   ],
   "source": [
    "for el in np.where(t == 1)[0]:\n",
    "    if 400 < el < 1000:\n",
    "        plt.axvline(x=el-400, color='g')\n",
    "        \n",
    "plt.plot(mfcc[0, 400:1000])"
   ]
  },
  {
   "cell_type": "code",
   "execution_count": null,
   "id": "8ed992d2-7808-41ea-869c-6e455d76ad7f",
   "metadata": {},
   "outputs": [],
   "source": []
  }
 ],
 "metadata": {
  "kernelspec": {
   "display_name": "Python 3 (ipykernel)",
   "language": "python",
   "name": "python3"
  },
  "language_info": {
   "codemirror_mode": {
    "name": "ipython",
    "version": 3
   },
   "file_extension": ".py",
   "mimetype": "text/x-python",
   "name": "python",
   "nbconvert_exporter": "python",
   "pygments_lexer": "ipython3",
   "version": "3.9.7"
  }
 },
 "nbformat": 4,
 "nbformat_minor": 5
}
