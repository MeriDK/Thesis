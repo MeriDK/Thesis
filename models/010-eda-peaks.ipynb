{
 "cells": [
  {
   "cell_type": "code",
   "execution_count": null,
   "id": "7a38f4c2-0b77-4d06-8156-8b679e10feab",
   "metadata": {},
   "outputs": [],
   "source": [
    "import pandas as pd\n",
    "import json\n",
    "import librosa\n",
    "import numpy as np"
   ]
  },
  {
   "cell_type": "code",
   "execution_count": null,
   "id": "35ddace4-2476-4dae-ad9b-bd30c367da53",
   "metadata": {},
   "outputs": [],
   "source": [
    "df = pd.read_csv('data_info2.csv')"
   ]
  },
  {
   "cell_type": "code",
   "execution_count": null,
   "id": "f5bb5d69-1a4d-48ca-8b00-48428d62f04a",
   "metadata": {},
   "outputs": [],
   "source": [
    "df.head()"
   ]
  },
  {
   "cell_type": "code",
   "execution_count": null,
   "id": "f508a338-8b0c-45d3-93e8-a2354072c8bc",
   "metadata": {},
   "outputs": [],
   "source": [
    "level_diff = ['Easy', 'Normal', 'Hard', 'Expert', 'ExpertPlus']\n",
    "res = []\n",
    "\n",
    "for diff in level_diff:\n",
    "    print(diff)\n",
    "    \n",
    "    for i, el in df[~df[diff].isnull()].iterrows():\n",
    "        \n",
    "        level_path = 'data/' + el['song_id'] + '/' + el[diff]\n",
    "        song_path = 'data/' + el['song_id'] + '/' + el['song_file']\n",
    "\n",
    "        # get duration\n",
    "        y, sr = librosa.load(song_path)\n",
    "        duration = librosa.get_duration(y=y, sr=sr)\n",
    "\n",
    "        # get bpm\n",
    "        bpm1 = el['bpm']\n",
    "        bpm2 = librosa.beat.tempo(y=y, sr=sr)[0]\n",
    "\n",
    "        # get num el\n",
    "        with open(level_path, 'r') as f:\n",
    "            data = json.load(f)\n",
    "            t = np.array(sorted(list(set([el['_time'] for el in data['_notes']]))))\n",
    "            num_el = t.shape[0]\n",
    "            \n",
    "        res.append([diff, duration, bpm1, bpm2, num_el])"
   ]
  },
  {
   "cell_type": "code",
   "execution_count": null,
   "id": "68e629e6-1ee2-4c2f-97f5-0f490822d451",
   "metadata": {},
   "outputs": [],
   "source": [
    "eda = pd.DataFrame(res, columns=['diff', 'duration', 'bpm_info', 'bpm_librosa', 'num_el'])"
   ]
  },
  {
   "cell_type": "code",
   "execution_count": 45,
   "id": "4c97cef2-37d4-41ec-9049-b2c6aae0ee46",
   "metadata": {},
   "outputs": [
    {
     "data": {
      "text/html": [
       "<div>\n",
       "<style scoped>\n",
       "    .dataframe tbody tr th:only-of-type {\n",
       "        vertical-align: middle;\n",
       "    }\n",
       "\n",
       "    .dataframe tbody tr th {\n",
       "        vertical-align: top;\n",
       "    }\n",
       "\n",
       "    .dataframe thead th {\n",
       "        text-align: right;\n",
       "    }\n",
       "</style>\n",
       "<table border=\"1\" class=\"dataframe\">\n",
       "  <thead>\n",
       "    <tr style=\"text-align: right;\">\n",
       "      <th></th>\n",
       "      <th>diff</th>\n",
       "      <th>duration</th>\n",
       "      <th>bpm_info</th>\n",
       "      <th>bpm_librosa</th>\n",
       "      <th>num_el</th>\n",
       "    </tr>\n",
       "  </thead>\n",
       "  <tbody>\n",
       "    <tr>\n",
       "      <th>40</th>\n",
       "      <td>ExpertPlus</td>\n",
       "      <td>339.888254</td>\n",
       "      <td>130.0</td>\n",
       "      <td>129.199219</td>\n",
       "      <td>1721</td>\n",
       "    </tr>\n",
       "    <tr>\n",
       "      <th>41</th>\n",
       "      <td>ExpertPlus</td>\n",
       "      <td>298.460544</td>\n",
       "      <td>127.0</td>\n",
       "      <td>129.199219</td>\n",
       "      <td>1229</td>\n",
       "    </tr>\n",
       "    <tr>\n",
       "      <th>42</th>\n",
       "      <td>ExpertPlus</td>\n",
       "      <td>249.460862</td>\n",
       "      <td>159.0</td>\n",
       "      <td>161.499023</td>\n",
       "      <td>916</td>\n",
       "    </tr>\n",
       "    <tr>\n",
       "      <th>43</th>\n",
       "      <td>ExpertPlus</td>\n",
       "      <td>282.031338</td>\n",
       "      <td>200.0</td>\n",
       "      <td>99.384014</td>\n",
       "      <td>1863</td>\n",
       "    </tr>\n",
       "    <tr>\n",
       "      <th>44</th>\n",
       "      <td>ExpertPlus</td>\n",
       "      <td>215.088390</td>\n",
       "      <td>135.0</td>\n",
       "      <td>135.999178</td>\n",
       "      <td>945</td>\n",
       "    </tr>\n",
       "    <tr>\n",
       "      <th>45</th>\n",
       "      <td>ExpertPlus</td>\n",
       "      <td>195.000045</td>\n",
       "      <td>138.0</td>\n",
       "      <td>135.999178</td>\n",
       "      <td>952</td>\n",
       "    </tr>\n",
       "    <tr>\n",
       "      <th>46</th>\n",
       "      <td>ExpertPlus</td>\n",
       "      <td>238.205079</td>\n",
       "      <td>94.0</td>\n",
       "      <td>123.046875</td>\n",
       "      <td>1287</td>\n",
       "    </tr>\n",
       "    <tr>\n",
       "      <th>47</th>\n",
       "      <td>ExpertPlus</td>\n",
       "      <td>197.435828</td>\n",
       "      <td>130.0</td>\n",
       "      <td>129.199219</td>\n",
       "      <td>1135</td>\n",
       "    </tr>\n",
       "    <tr>\n",
       "      <th>48</th>\n",
       "      <td>ExpertPlus</td>\n",
       "      <td>299.742041</td>\n",
       "      <td>260.0</td>\n",
       "      <td>129.199219</td>\n",
       "      <td>2237</td>\n",
       "    </tr>\n",
       "    <tr>\n",
       "      <th>49</th>\n",
       "      <td>ExpertPlus</td>\n",
       "      <td>186.328118</td>\n",
       "      <td>190.0</td>\n",
       "      <td>95.703125</td>\n",
       "      <td>812</td>\n",
       "    </tr>\n",
       "  </tbody>\n",
       "</table>\n",
       "</div>"
      ],
      "text/plain": [
       "          diff    duration  bpm_info  bpm_librosa  num_el\n",
       "40  ExpertPlus  339.888254     130.0   129.199219    1721\n",
       "41  ExpertPlus  298.460544     127.0   129.199219    1229\n",
       "42  ExpertPlus  249.460862     159.0   161.499023     916\n",
       "43  ExpertPlus  282.031338     200.0    99.384014    1863\n",
       "44  ExpertPlus  215.088390     135.0   135.999178     945\n",
       "45  ExpertPlus  195.000045     138.0   135.999178     952\n",
       "46  ExpertPlus  238.205079      94.0   123.046875    1287\n",
       "47  ExpertPlus  197.435828     130.0   129.199219    1135\n",
       "48  ExpertPlus  299.742041     260.0   129.199219    2237\n",
       "49  ExpertPlus  186.328118     190.0    95.703125     812"
      ]
     },
     "execution_count": 45,
     "metadata": {},
     "output_type": "execute_result"
    }
   ],
   "source": [
    "eda[eda['diff'] == 'ExpertPlus']"
   ]
  },
  {
   "cell_type": "code",
   "execution_count": null,
   "id": "1f113ad8-bbef-4fe6-be61-31c43d36a7dd",
   "metadata": {},
   "outputs": [],
   "source": [
    "eda.to_excel('eda2.xlsx')"
   ]
  },
  {
   "cell_type": "code",
   "execution_count": null,
   "id": "5d1bf6e5-6156-4d6d-9d40-ec3bd2ec04a5",
   "metadata": {},
   "outputs": [],
   "source": [
    "eda[['bpm_info', 'bpm_librosa']].corr()"
   ]
  },
  {
   "cell_type": "code",
   "execution_count": null,
   "id": "74e71090-a181-4f4b-8bfa-5af537b568c2",
   "metadata": {},
   "outputs": [],
   "source": []
  }
 ],
 "metadata": {
  "kernelspec": {
   "display_name": "Python 3 (ipykernel)",
   "language": "python",
   "name": "python3"
  },
  "language_info": {
   "codemirror_mode": {
    "name": "ipython",
    "version": 3
   },
   "file_extension": ".py",
   "mimetype": "text/x-python",
   "name": "python",
   "nbconvert_exporter": "python",
   "pygments_lexer": "ipython3",
   "version": "3.9.7"
  }
 },
 "nbformat": 4,
 "nbformat_minor": 5
}
