{
 "cells": [
  {
   "cell_type": "code",
   "execution_count": 1,
   "id": "7fbdcff3-e5e4-4efb-ae00-917a2e8ee1fb",
   "metadata": {},
   "outputs": [],
   "source": [
    "from catboost import CatBoostClassifier, Pool, metrics, cv\n",
    "import numpy as np\n",
    "from sklearn.metrics import accuracy_score, f1_score, precision_score, recall_score, classification_report, confusion_matrix\n",
    "from sklearn.ensemble import RandomForestClassifier"
   ]
  },
  {
   "cell_type": "code",
   "execution_count": 2,
   "id": "cc1cc39c-b837-4411-9061-ab58636e8e5c",
   "metadata": {},
   "outputs": [],
   "source": [
    "class FocalLossObjective(object):\n",
    "    def calc_ders_range(self, approxes, targets, weights):\n",
    "        # approxes, targets, weights are indexed containers of floats\n",
    "        # (containers with only __len__ and __getitem__ defined).\n",
    "        # weights parameter can be None.\n",
    "        # Returns list of pairs (der1, der2)\n",
    "        gamma = 2.\n",
    "        # alpha = 1.\n",
    "        assert len(approxes) == len(targets)\n",
    "        if weights is not None:\n",
    "            assert len(weights) == len(approxes)\n",
    "        \n",
    "        exponents = []\n",
    "        for index in xrange(len(approxes)):\n",
    "            exponents.append(math.exp(approxes[index]))\n",
    "\n",
    "        result = []\n",
    "        for index in xrange(len(targets)):\n",
    "            p = exponents[index] / (1 + exponents[index])\n",
    "\n",
    "            if targets[index] > 0.0:\n",
    "                der1 = -((1-p)**(gamma-1))*(gamma * math.log(p) * p + p - 1)/p\n",
    "                der2 = gamma*((1-p)**gamma)*((gamma*p-1)*math.log(p)+2*(p-1))\n",
    "            else:\n",
    "                der1 = (p**(gamma-1)) * (gamma * math.log(1 - p) - p)/(1 - p)\n",
    "                der2 = p**(gamma-2)*((p*(2*gamma*(p-1)-p))/(p-1)**2 + (gamma-1)*gamma*math.log(1 - p))\n",
    "\n",
    "            if weights is not None:\n",
    "                der1 *= weights[index]\n",
    "                der2 *= weights[index]\n",
    "\n",
    "            result.append((der1, der2))\n",
    "\n",
    "        return result\n"
   ]
  },
  {
   "cell_type": "code",
   "execution_count": 13,
   "id": "cdc94e1a-a66b-4dc8-a0dc-8535a3d9861c",
   "metadata": {},
   "outputs": [],
   "source": [
    "X_train = np.load('X_train_mfcc.npy')\n",
    "X_test = np.load('X_test.npy')\n",
    "X_val = np.load('X_val.npy')\n",
    "y_train = np.load('y_train_mfcc.npy')\n",
    "y_test = np.load('y_test.npy')\n",
    "y_val = np.load('y_val.npy')"
   ]
  },
  {
   "cell_type": "code",
   "execution_count": 46,
   "id": "f06a20ad-aaa1-4cf8-891f-d690508c882d",
   "metadata": {},
   "outputs": [],
   "source": [
    "indx0 = np.where(y_train == 0)[0]\n",
    "np.random.shuffle(indx0)\n",
    "indx1 = np.where(y_train == 1)[0]"
   ]
  },
  {
   "cell_type": "code",
   "execution_count": 47,
   "id": "98f12a04-fd1a-4189-85d4-5f37e01828fe",
   "metadata": {},
   "outputs": [],
   "source": [
    "new_indx = np.hstack((indx0[:len(indx1)], indx1))\n",
    "X_train = X_train[new_indx]\n",
    "y_train = y_train[new_indx]"
   ]
  },
  {
   "cell_type": "code",
   "execution_count": 12,
   "id": "231f60af-3a9c-43e9-bf2c-bac375c438c7",
   "metadata": {},
   "outputs": [
    {
     "data": {
      "text/plain": [
       "(3772800, 16)"
      ]
     },
     "execution_count": 12,
     "metadata": {},
     "output_type": "execute_result"
    }
   ],
   "source": [
    "X_train.shape"
   ]
  },
  {
   "cell_type": "code",
   "execution_count": 35,
   "id": "63d8344f-6836-40e5-b2b1-005d70b749b4",
   "metadata": {},
   "outputs": [],
   "source": [
    "model = CatBoostClassifier(\n",
    "    class_weights=[1, 7],\n",
    "    # scale_pos_weight=5,\n",
    "    random_seed=42,\n",
    "    logging_level='Silent',\n",
    "    # od_type='Iter',\n",
    "    # od_wait=10,\n",
    "    # use_best_model=True,\n",
    "    loss_function=metrics.Logloss(),\n",
    "    # eval_metric=metrics.Precision(),\n",
    "    iterations=200,\n",
    ")"
   ]
  },
  {
   "cell_type": "code",
   "execution_count": 36,
   "id": "e70fdb07-42a7-40dd-b6e5-75759b07a719",
   "metadata": {},
   "outputs": [
    {
     "data": {
      "application/vnd.jupyter.widget-view+json": {
       "model_id": "9e80ef74d74c430a9138b1c836f341b2",
       "version_major": 2,
       "version_minor": 0
      },
      "text/plain": [
       "MetricVisualizer(layout=Layout(align_self='stretch', height='500px'))"
      ]
     },
     "metadata": {},
     "output_type": "display_data"
    },
    {
     "data": {
      "text/plain": [
       "<catboost.core.CatBoostClassifier at 0x2c74bc5ae50>"
      ]
     },
     "execution_count": 36,
     "metadata": {},
     "output_type": "execute_result"
    }
   ],
   "source": [
    "model.fit(\n",
    "    X_train, y_train,\n",
    "    eval_set=(X_val, y_val),\n",
    "    plot=True\n",
    ")"
   ]
  },
  {
   "cell_type": "code",
   "execution_count": 37,
   "id": "2d20fa36-3632-4cd0-839a-aa4171468ee3",
   "metadata": {},
   "outputs": [],
   "source": [
    "y_train_pred = model.predict(X_train)\n",
    "y_val_pred = model.predict(X_val)"
   ]
  },
  {
   "cell_type": "code",
   "execution_count": 38,
   "id": "d783a852-0b99-41a2-b13d-31c75916a90e",
   "metadata": {},
   "outputs": [
    {
     "name": "stdout",
     "output_type": "stream",
     "text": [
      "              precision    recall  f1-score   support\n",
      "\n",
      "         0.0       0.92      0.93      0.93   3453638\n",
      "         1.0       0.17      0.15      0.16    322603\n",
      "\n",
      "    accuracy                           0.86   3776241\n",
      "   macro avg       0.54      0.54      0.54   3776241\n",
      "weighted avg       0.86      0.86      0.86   3776241\n",
      "\n"
     ]
    },
    {
     "data": {
      "text/plain": [
       "array([[3211586,  242052],\n",
       "       [ 274196,   48407]], dtype=int64)"
      ]
     },
     "execution_count": 38,
     "metadata": {},
     "output_type": "execute_result"
    }
   ],
   "source": [
    "print(classification_report(y_train_pred, y_train))\n",
    "confusion_matrix(y_train_pred, y_train)"
   ]
  },
  {
   "cell_type": "code",
   "execution_count": 39,
   "id": "e9abbba2-b035-4bf5-8522-1a3688dade79",
   "metadata": {},
   "outputs": [
    {
     "name": "stdout",
     "output_type": "stream",
     "text": [
      "              precision    recall  f1-score   support\n",
      "\n",
      "         0.0       0.89      0.93      0.91    721363\n",
      "         1.0       0.20      0.13      0.16     95512\n",
      "\n",
      "    accuracy                           0.84    816875\n",
      "   macro avg       0.54      0.53      0.53    816875\n",
      "weighted avg       0.81      0.84      0.82    816875\n",
      "\n"
     ]
    },
    {
     "data": {
      "text/plain": [
       "array([[669710,  51653],\n",
       "       [ 82720,  12792]], dtype=int64)"
      ]
     },
     "execution_count": 39,
     "metadata": {},
     "output_type": "execute_result"
    }
   ],
   "source": [
    "print(classification_report(y_val_pred, y_val))\n",
    "confusion_matrix(y_val_pred, y_val)"
   ]
  },
  {
   "cell_type": "code",
   "execution_count": 43,
   "id": "37a86dad-e967-4ac9-a40d-85eb09a029b7",
   "metadata": {},
   "outputs": [
    {
     "data": {
      "text/plain": [
       "(array([    976,     977,     978, ..., 3775369, 3775452, 3775453],\n",
       "       dtype=int64),)"
      ]
     },
     "execution_count": 43,
     "metadata": {},
     "output_type": "execute_result"
    }
   ],
   "source": [
    "np.where(y_train_pred == 1)"
   ]
  },
  {
   "cell_type": "code",
   "execution_count": 44,
   "id": "2f28afaf-1706-4f2d-a12b-99f982f500c4",
   "metadata": {},
   "outputs": [
    {
     "data": {
      "text/plain": [
       "(array([    502,     509,     513, ..., 3775470, 3775479, 3775487],\n",
       "       dtype=int64),)"
      ]
     },
     "execution_count": 44,
     "metadata": {},
     "output_type": "execute_result"
    }
   ],
   "source": [
    "np.where(y_train == 1)"
   ]
  },
  {
   "cell_type": "code",
   "execution_count": null,
   "id": "a7465e01-e20c-4359-9dbf-250baf54d8cf",
   "metadata": {},
   "outputs": [],
   "source": []
  },
  {
   "cell_type": "code",
   "execution_count": 45,
   "id": "808ffd93-7086-4c15-b119-c3cbe1900741",
   "metadata": {},
   "outputs": [
    {
     "name": "stderr",
     "output_type": "stream",
     "text": [
      "[Parallel(n_jobs=6)]: Using backend ThreadingBackend with 6 concurrent workers.\n",
      "[Parallel(n_jobs=6)]: Done  38 tasks      | elapsed:  7.5min\n",
      "[Parallel(n_jobs=6)]: Done 100 out of 100 | elapsed: 18.2min finished\n"
     ]
    },
    {
     "data": {
      "text/plain": [
       "RandomForestClassifier(n_jobs=6, random_state=42, verbose=1)"
      ]
     },
     "execution_count": 45,
     "metadata": {},
     "output_type": "execute_result"
    }
   ],
   "source": [
    "clf = RandomForestClassifier(random_state=42, verbose=1, n_jobs=6)\n",
    "clf.fit(X_train, y_train)"
   ]
  },
  {
   "cell_type": "code",
   "execution_count": 46,
   "id": "9931abb9-2034-459a-98bf-311863123324",
   "metadata": {},
   "outputs": [
    {
     "name": "stderr",
     "output_type": "stream",
     "text": [
      "[Parallel(n_jobs=6)]: Using backend ThreadingBackend with 6 concurrent workers.\n",
      "[Parallel(n_jobs=6)]: Done  38 tasks      | elapsed:   39.4s\n",
      "[Parallel(n_jobs=6)]: Done 100 out of 100 | elapsed:  1.6min finished\n",
      "[Parallel(n_jobs=6)]: Using backend ThreadingBackend with 6 concurrent workers.\n",
      "[Parallel(n_jobs=6)]: Done  38 tasks      | elapsed:    8.5s\n",
      "[Parallel(n_jobs=6)]: Done 100 out of 100 | elapsed:   21.1s finished\n"
     ]
    }
   ],
   "source": [
    "y_train_pred = clf.predict(X_train)\n",
    "y_val_pred = clf.predict(X_val)"
   ]
  },
  {
   "cell_type": "code",
   "execution_count": 47,
   "id": "36a0185d-8570-4f42-8586-fa61e23979e8",
   "metadata": {},
   "outputs": [
    {
     "name": "stdout",
     "output_type": "stream",
     "text": [
      "              precision    recall  f1-score   support\n",
      "\n",
      "         0.0       1.00      1.00      1.00   3499225\n",
      "         1.0       0.95      0.99      0.97    277016\n",
      "\n",
      "    accuracy                           1.00   3776241\n",
      "   macro avg       0.97      0.99      0.98   3776241\n",
      "weighted avg       1.00      1.00      1.00   3776241\n",
      "\n"
     ]
    },
    {
     "data": {
      "text/plain": [
       "array([[3483707,   15518],\n",
       "       [   2075,  274941]], dtype=int64)"
      ]
     },
     "execution_count": 47,
     "metadata": {},
     "output_type": "execute_result"
    }
   ],
   "source": [
    "print(classification_report(y_train_pred, y_train))\n",
    "confusion_matrix(y_train_pred, y_train)"
   ]
  },
  {
   "cell_type": "code",
   "execution_count": 48,
   "id": "351ff519-d111-40cb-99ad-c83ff8004650",
   "metadata": {},
   "outputs": [
    {
     "name": "stdout",
     "output_type": "stream",
     "text": [
      "              precision    recall  f1-score   support\n",
      "\n",
      "         0.0       0.92      0.92      0.92    751323\n",
      "         1.0       0.10      0.09      0.10     65552\n",
      "\n",
      "    accuracy                           0.86    816875\n",
      "   macro avg       0.51      0.51      0.51    816875\n",
      "weighted avg       0.85      0.86      0.86    816875\n",
      "\n"
     ]
    },
    {
     "data": {
      "text/plain": [
       "array([[693057,  58266],\n",
       "       [ 59373,   6179]], dtype=int64)"
      ]
     },
     "execution_count": 48,
     "metadata": {},
     "output_type": "execute_result"
    }
   ],
   "source": [
    "print(classification_report(y_val_pred, y_val))\n",
    "confusion_matrix(y_val_pred, y_val)"
   ]
  },
  {
   "cell_type": "code",
   "execution_count": null,
   "id": "9dd1b8d5-4a6a-4e87-b00a-0256d9bd260b",
   "metadata": {},
   "outputs": [],
   "source": []
  }
 ],
 "metadata": {
  "kernelspec": {
   "display_name": "Python 3 (ipykernel)",
   "language": "python",
   "name": "python3"
  },
  "language_info": {
   "codemirror_mode": {
    "name": "ipython",
    "version": 3
   },
   "file_extension": ".py",
   "mimetype": "text/x-python",
   "name": "python",
   "nbconvert_exporter": "python",
   "pygments_lexer": "ipython3",
   "version": "3.9.7"
  }
 },
 "nbformat": 4,
 "nbformat_minor": 5
}
