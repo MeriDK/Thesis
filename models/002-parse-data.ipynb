{
 "cells": [
  {
   "cell_type": "code",
   "execution_count": 1,
   "id": "1cd2536a-8523-4efa-9dd6-11401b403c08",
   "metadata": {
    "pycharm": {
     "name": "#%%\n"
    }
   },
   "outputs": [],
   "source": [
    "import pandas as pd\n",
    "import os\n",
    "import json"
   ]
  },
  {
   "cell_type": "code",
   "execution_count": 6,
   "id": "9f93affe-4311-461a-a7a2-2f30b48eefaf",
   "metadata": {
    "pycharm": {
     "name": "#%%\n"
    }
   },
   "outputs": [],
   "source": [
    "cols = ['song_id', 'song_name', 'song_author', 'song_file', 'bpm', 'Easy', 'Normal', 'Hard', 'Expert', 'ExpertPlus']\n",
    "df = pd.DataFrame(columns=cols)"
   ]
  },
  {
   "cell_type": "code",
   "execution_count": 7,
   "id": "74a5b5bd-47f3-4504-b45a-0a7393b9f812",
   "metadata": {
    "pycharm": {
     "name": "#%%\n"
    },
    "tags": []
   },
   "outputs": [],
   "source": [
    "for _id in os.listdir('data'):\n",
    "    level = {col: None for col in cols}\n",
    "\n",
    "    with open('data/' + _id + '/Info.dat', 'r', encoding='utf-8') as f:\n",
    "        info = json.loads(f.read())\n",
    "    \n",
    "    level['song_id'] = _id\n",
    "    level['song_name'] = info['_songName']\n",
    "    level['song_author'] = info['_songAuthorName']\n",
    "    level['song_file'] = info['_songFilename']\n",
    "    level['bpm'] = info['_beatsPerMinute']\n",
    "    \n",
    "    for bms in info['_difficultyBeatmapSets']:\n",
    "        if bms['_beatmapCharacteristicName'] == 'Standard':\n",
    "            for bm in bms['_difficultyBeatmaps']:\n",
    "                for lvl in ['Easy', 'Normal', 'Hard', 'Expert', 'ExpertPlus']:\n",
    "                    if bm['_difficulty'] == lvl:\n",
    "                        level[lvl] = bm['_beatmapFilename']\n",
    "                    \n",
    "    df = df.append(level, ignore_index=True)"
   ]
  },
  {
   "cell_type": "code",
   "execution_count": 8,
   "id": "4bb2433c-d8cf-4ae9-9a17-d20b47adccb7",
   "metadata": {
    "pycharm": {
     "name": "#%%\n"
    }
   },
   "outputs": [
    {
     "data": {
      "text/html": [
       "<div>\n",
       "<style scoped>\n",
       "    .dataframe tbody tr th:only-of-type {\n",
       "        vertical-align: middle;\n",
       "    }\n",
       "\n",
       "    .dataframe tbody tr th {\n",
       "        vertical-align: top;\n",
       "    }\n",
       "\n",
       "    .dataframe thead th {\n",
       "        text-align: right;\n",
       "    }\n",
       "</style>\n",
       "<table border=\"1\" class=\"dataframe\">\n",
       "  <thead>\n",
       "    <tr style=\"text-align: right;\">\n",
       "      <th></th>\n",
       "      <th>song_id</th>\n",
       "      <th>song_name</th>\n",
       "      <th>song_author</th>\n",
       "      <th>song_file</th>\n",
       "      <th>bpm</th>\n",
       "      <th>Easy</th>\n",
       "      <th>Normal</th>\n",
       "      <th>Hard</th>\n",
       "      <th>Expert</th>\n",
       "      <th>ExpertPlus</th>\n",
       "    </tr>\n",
       "  </thead>\n",
       "  <tbody>\n",
       "    <tr>\n",
       "      <th>0</th>\n",
       "      <td>aaj</td>\n",
       "      <td>Aaj</td>\n",
       "      <td>Bloodywood</td>\n",
       "      <td>song.ogg</td>\n",
       "      <td>180.0</td>\n",
       "      <td>Easy.dat</td>\n",
       "      <td>None</td>\n",
       "      <td>None</td>\n",
       "      <td>None</td>\n",
       "      <td>None</td>\n",
       "    </tr>\n",
       "    <tr>\n",
       "      <th>1</th>\n",
       "      <td>africatotometalcover</td>\n",
       "      <td>Africa - Toto (Metal Cover)</td>\n",
       "      <td>Leo Moracchioli, Rabea, Hannah</td>\n",
       "      <td>song.ogg</td>\n",
       "      <td>105.0</td>\n",
       "      <td>None</td>\n",
       "      <td>None</td>\n",
       "      <td>None</td>\n",
       "      <td>None</td>\n",
       "      <td>ExpertPlus.dat</td>\n",
       "    </tr>\n",
       "    <tr>\n",
       "      <th>2</th>\n",
       "      <td>afterlife</td>\n",
       "      <td>Afterlife</td>\n",
       "      <td>Avenged Sevenfold</td>\n",
       "      <td>song.ogg</td>\n",
       "      <td>220.0</td>\n",
       "      <td>Easy.dat</td>\n",
       "      <td>None</td>\n",
       "      <td>None</td>\n",
       "      <td>None</td>\n",
       "      <td>None</td>\n",
       "    </tr>\n",
       "    <tr>\n",
       "      <th>3</th>\n",
       "      <td>alerion</td>\n",
       "      <td>Alerion</td>\n",
       "      <td>Asking Alexandria</td>\n",
       "      <td>song.ogg</td>\n",
       "      <td>130.0</td>\n",
       "      <td>None</td>\n",
       "      <td>NormalStandard.dat</td>\n",
       "      <td>HardStandard.dat</td>\n",
       "      <td>None</td>\n",
       "      <td>ExpertPlusStandard.dat</td>\n",
       "    </tr>\n",
       "    <tr>\n",
       "      <th>4</th>\n",
       "      <td>alittlepieceofheaven</td>\n",
       "      <td>A Little Piece of Heaven</td>\n",
       "      <td>Avenged Sevenfold</td>\n",
       "      <td>song.ogg</td>\n",
       "      <td>144.985992</td>\n",
       "      <td>None</td>\n",
       "      <td>None</td>\n",
       "      <td>None</td>\n",
       "      <td>None</td>\n",
       "      <td>None</td>\n",
       "    </tr>\n",
       "  </tbody>\n",
       "</table>\n",
       "</div>"
      ],
      "text/plain": [
       "                song_id                    song_name  \\\n",
       "0                   aaj                          Aaj   \n",
       "1  africatotometalcover  Africa - Toto (Metal Cover)   \n",
       "2             afterlife                    Afterlife   \n",
       "3               alerion                      Alerion   \n",
       "4  alittlepieceofheaven     A Little Piece of Heaven   \n",
       "\n",
       "                      song_author song_file         bpm      Easy  \\\n",
       "0                      Bloodywood  song.ogg       180.0  Easy.dat   \n",
       "1  Leo Moracchioli, Rabea, Hannah  song.ogg       105.0      None   \n",
       "2               Avenged Sevenfold  song.ogg       220.0  Easy.dat   \n",
       "3               Asking Alexandria  song.ogg       130.0      None   \n",
       "4               Avenged Sevenfold  song.ogg  144.985992      None   \n",
       "\n",
       "               Normal              Hard Expert              ExpertPlus  \n",
       "0                None              None   None                    None  \n",
       "1                None              None   None          ExpertPlus.dat  \n",
       "2                None              None   None                    None  \n",
       "3  NormalStandard.dat  HardStandard.dat   None  ExpertPlusStandard.dat  \n",
       "4                None              None   None                    None  "
      ]
     },
     "execution_count": 8,
     "metadata": {},
     "output_type": "execute_result"
    }
   ],
   "source": [
    "df.head()"
   ]
  },
  {
   "cell_type": "code",
   "execution_count": null,
   "outputs": [],
   "source": [
    "df.to_csv('data_info2.csv', index=False)"
   ],
   "metadata": {
    "collapsed": false,
    "pycharm": {
     "name": "#%%\n"
    }
   }
  },
  {
   "cell_type": "code",
   "execution_count": null,
   "outputs": [],
   "source": [
    "df.notnull().sum()"
   ],
   "metadata": {
    "collapsed": false,
    "pycharm": {
     "name": "#%%\n"
    }
   }
  },
  {
   "cell_type": "code",
   "execution_count": null,
   "outputs": [],
   "source": [
    "for index, row in df.iterrows():\n",
    "    print(index, row)\n",
    "    break"
   ],
   "metadata": {
    "collapsed": false,
    "pycharm": {
     "name": "#%%\n"
    }
   }
  },
  {
   "cell_type": "code",
   "execution_count": null,
   "outputs": [],
   "source": [
    "for index, row in df.iterrows():\n",
    "    for lvl in ['Easy', 'Normal', 'Hard', 'Expert', 'ExpertPlus']:\n",
    "        if row[lvl] is not None:\n",
    "            try:\n",
    "                with open('data/' + row['song_id'] + '/' + row[lvl], 'r', encoding='utf-8') as f:\n",
    "                    notes = json.loads(f.read())['_notes']\n",
    "\n",
    "                time = sorted(list(set([el['_time'] for el in notes])))\n",
    "\n",
    "                res = {i: [['n9', 'n9', 'n9', 'n9'], ['n9', 'n9', 'n9', 'n9'], ['n9', 'n9', 'n9', 'n9']] for i in range(len(time))}\n",
    "\n",
    "                for i in range(len(time)):\n",
    "                    for el in notes:\n",
    "                        if el['_time'] == time[i] and el['_lineLayer'] == 1 and el['_lineIndex'] in (0, 1, 2, 3) and el['_type'] == 0 \\\n",
    "                            and el['_cutDirection'] == 1:\n",
    "                            res[i][el['_lineLayer']][el['_lineIndex']] = str(el['_type']) + str(el['_cutDirection'])\n",
    "\n",
    "                res2 = []\n",
    "                for t in res.values():\n",
    "                    res2.append(''.join(''.join(el) for el in t))\n",
    "\n",
    "                with open('data_processed/' + row['song_id'] + '_' + lvl + '.json', 'w', encoding='utf-8') as f:\n",
    "                    f.write(json.dumps(res2))\n",
    "            except UnicodeDecodeError:\n",
    "                print(row['song_id'] + '/' + row[lvl])"
   ],
   "metadata": {
    "collapsed": false,
    "pycharm": {
     "name": "#%%\n"
    }
   }
  },
  {
   "cell_type": "code",
   "execution_count": null,
   "outputs": [],
   "source": [
    "def join_jsons(path):\n",
    "    res = []\n",
    "\n",
    "    for file in os.listdir(path):\n",
    "        with open(path + '/' + file, 'r') as f:\n",
    "            data = json.loads(f.read())\n",
    "            res += data\n",
    "            \n",
    "    with open(path + '.json', 'w') as f:\n",
    "        f.write(json.dumps(res))"
   ],
   "metadata": {
    "collapsed": false,
    "pycharm": {
     "name": "#%%\n"
    }
   }
  },
  {
   "cell_type": "code",
   "execution_count": null,
   "outputs": [],
   "source": [
    "join_jsons('data_processed2')"
   ],
   "metadata": {
    "collapsed": false,
    "pycharm": {
     "name": "#%%\n"
    }
   }
  },
  {
   "cell_type": "code",
   "execution_count": null,
   "outputs": [],
   "source": [
    "with open('data_processed2.json', 'r') as f:\n",
    "    data = json.loads(f.read())"
   ],
   "metadata": {
    "collapsed": false,
    "pycharm": {
     "name": "#%%\n"
    }
   }
  },
  {
   "cell_type": "code",
   "execution_count": null,
   "outputs": [],
   "source": [
    "unique_els = set(data)"
   ],
   "metadata": {
    "collapsed": false,
    "pycharm": {
     "name": "#%%\n"
    }
   }
  },
  {
   "cell_type": "code",
   "execution_count": null,
   "outputs": [],
   "source": [
    "len(unique_els)"
   ],
   "metadata": {
    "collapsed": false,
    "pycharm": {
     "name": "#%%\n"
    }
   }
  },
  {
   "cell_type": "code",
   "execution_count": null,
   "outputs": [],
   "source": [
    "c = {el: 0 for el in unique_els}"
   ],
   "metadata": {
    "collapsed": false,
    "pycharm": {
     "name": "#%%\n"
    }
   }
  },
  {
   "cell_type": "code",
   "execution_count": null,
   "outputs": [],
   "source": [
    "for el in data:\n",
    "    c[el] += 1"
   ],
   "metadata": {
    "collapsed": false,
    "pycharm": {
     "name": "#%%\n"
    }
   }
  },
  {
   "cell_type": "code",
   "execution_count": null,
   "outputs": [],
   "source": [
    "for key, val in c.items():\n",
    "    print(f'{key} : {val}')"
   ],
   "metadata": {
    "collapsed": false,
    "pycharm": {
     "name": "#%%\n"
    }
   }
  },
  {
   "cell_type": "code",
   "execution_count": null,
   "outputs": [],
   "source": [
    "[el[8:-8] for el in c.keys()]"
   ],
   "metadata": {
    "collapsed": false,
    "pycharm": {
     "name": "#%%\n"
    }
   }
  },
  {
   "cell_type": "code",
   "execution_count": null,
   "outputs": [],
   "source": [
    "len(data)"
   ],
   "metadata": {
    "collapsed": false,
    "pycharm": {
     "name": "#%%\n"
    }
   }
  },
  {
   "cell_type": "code",
   "execution_count": null,
   "outputs": [],
   "source": [
    "data2 = [el for el in data if el not in ('n9n9n9n9010101n9n9n9n9n9', 'n9n9n9n9n9010101n9n9n9n9', 'n9n9n9n901010101n9n9n9n9', \n",
    "                                         'n9n9n9n901n90101n9n9n9n9', 'n9n9n9n9n9n9n9n9n9n9n9n9')]"
   ],
   "metadata": {
    "collapsed": false,
    "pycharm": {
     "name": "#%%\n"
    }
   }
  },
  {
   "cell_type": "code",
   "execution_count": null,
   "outputs": [],
   "source": [
    "with open('data_processed2.json', 'w') as f:\n",
    "    f.write(json.dumps(data2))"
   ],
   "metadata": {
    "collapsed": false,
    "pycharm": {
     "name": "#%%\n"
    }
   }
  },
  {
   "cell_type": "code",
   "execution_count": null,
   "outputs": [],
   "source": [
    "with open('all_characters2.json', 'w') as f:\n",
    "    f.write(json.dumps(list(set(data2))))"
   ],
   "metadata": {
    "collapsed": false,
    "pycharm": {
     "name": "#%%\n"
    }
   }
  },
  {
   "cell_type": "code",
   "execution_count": 15,
   "id": "bd687e1b-33bd-4255-b95d-27fe0727f0f6",
   "metadata": {
    "pycharm": {
     "name": "#%%\n"
    }
   },
   "outputs": [],
   "source": [
    "with open('data_processed2.json', 'r') as f:\n",
    "    data = json.loads(f.read())"
   ]
  },
  {
   "cell_type": "code",
   "execution_count": 16,
   "id": "705cb4ba-315d-4e8d-85da-91f0887aaf79",
   "metadata": {},
   "outputs": [],
   "source": [
    "unique_els = set(data)"
   ]
  },
  {
   "cell_type": "code",
   "execution_count": 21,
   "id": "a171695b-dae4-4886-9178-0ce80b0ee333",
   "metadata": {},
   "outputs": [
    {
     "data": {
      "text/plain": [
       "15"
      ]
     },
     "execution_count": 21,
     "metadata": {},
     "output_type": "execute_result"
    }
   ],
   "source": [
    "len(unique_els)"
   ]
  },
  {
   "cell_type": "code",
   "execution_count": 17,
   "id": "dfe1fafa-2a22-43b4-bc88-4c026beddc6a",
   "metadata": {},
   "outputs": [],
   "source": [
    "c = {el: 0 for el in unique_els}"
   ]
  },
  {
   "cell_type": "code",
   "execution_count": 18,
   "id": "ad88e08b-9444-4312-9cda-1173895a5f84",
   "metadata": {},
   "outputs": [],
   "source": [
    "for el in data:\n",
    "    c[el] += 1"
   ]
  },
  {
   "cell_type": "code",
   "execution_count": 19,
   "id": "c80bd44f-1ecc-43a3-bcfe-37cbb4d48e43",
   "metadata": {},
   "outputs": [
    {
     "name": "stdout",
     "output_type": "stream",
     "text": [
      "n9n9n9n901n9n901n9n9n9n9 : 37389\n",
      "n9n9n9n9n9n9n901n9n9n9n9 : 147836\n",
      "n9n9n9n9n9010101n9n9n9n9 : 4\n",
      "n9n9n9n901n90101n9n9n9n9 : 2\n",
      "n9n9n9n9n9n90101n9n9n9n9 : 23993\n",
      "n9n9n9n9n90101n9n9n9n9n9 : 48583\n",
      "n9n9n9n9n901n901n9n9n9n9 : 27323\n",
      "n9n9n9n9n9n9n9n9n9n9n9n9 : 28159\n",
      "n9n9n9n9n9n901n9n9n9n9n9 : 197870\n",
      "n9n9n9n90101n9n9n9n9n9n9 : 26163\n",
      "n9n9n9n9n901n9n9n9n9n9n9 : 200806\n",
      "n9n9n9n901n901n9n9n9n9n9 : 26007\n",
      "n9n9n9n901010101n9n9n9n9 : 2\n",
      "n9n9n9n901n9n9n9n9n9n9n9 : 150871\n",
      "n9n9n9n9010101n9n9n9n9n9 : 4\n"
     ]
    }
   ],
   "source": [
    "for key, val in c.items():\n",
    "    print(f'{key} : {val}')"
   ]
  },
  {
   "cell_type": "code",
   "execution_count": 12,
   "id": "7e8215e5-2b66-4bc5-9689-9a725718d680",
   "metadata": {},
   "outputs": [
    {
     "data": {
      "text/plain": [
       "['010101n9',\n",
       " 'n9010101',\n",
       " 'n9n9n901',\n",
       " 'n901n9n9',\n",
       " '01n901n9',\n",
       " 'n9n90101',\n",
       " '01n9n901',\n",
       " '01010101',\n",
       " '01n90101',\n",
       " 'n901n901',\n",
       " 'n90101n9',\n",
       " '01n9n9n9',\n",
       " 'n9n901n9',\n",
       " '0101n9n9',\n",
       " 'n9n9n9n9']"
      ]
     },
     "execution_count": 12,
     "metadata": {},
     "output_type": "execute_result"
    }
   ],
   "source": [
    "[el[8:-8] for el in c.keys()]"
   ]
  },
  {
   "cell_type": "code",
   "execution_count": 20,
   "id": "80390d77-5930-4c78-ba6c-8d1d79557646",
   "metadata": {},
   "outputs": [
    {
     "data": {
      "text/plain": [
       "915012"
      ]
     },
     "execution_count": 20,
     "metadata": {},
     "output_type": "execute_result"
    }
   ],
   "source": [
    "len(data)"
   ]
  },
  {
   "cell_type": "code",
   "execution_count": 23,
   "id": "d873d167-c027-4d56-a465-f11cef175c32",
   "metadata": {},
   "outputs": [],
   "source": [
    "data2 = [el for el in data if el not in ('n9n9n9n9010101n9n9n9n9n9', 'n9n9n9n9n9010101n9n9n9n9', 'n9n9n9n901010101n9n9n9n9', \n",
    "                                         'n9n9n9n901n90101n9n9n9n9', 'n9n9n9n9n9n9n9n9n9n9n9n9')]"
   ]
  },
  {
   "cell_type": "code",
   "execution_count": 24,
   "id": "2fb00769-32f7-4e85-aef2-eb6afc5c6f24",
   "metadata": {},
   "outputs": [],
   "source": [
    "with open('data_processed2.json', 'w') as f:\n",
    "    f.write(json.dumps(data2))"
   ]
  },
  {
   "cell_type": "code",
   "execution_count": 25,
   "id": "a94f103c-0633-42fc-a33b-4db612610818",
   "metadata": {},
   "outputs": [],
   "source": [
    "with open('all_characters2.json', 'w') as f:\n",
    "    f.write(json.dumps(list(set(data2))))"
   ]
  },
  {
   "cell_type": "code",
   "execution_count": null,
   "id": "f642975d-a57d-4ea6-813d-602d0bdede32",
   "metadata": {},
   "outputs": [],
   "source": []
  }
 ],
 "metadata": {
  "kernelspec": {
   "display_name": "Python 3 (ipykernel)",
   "language": "python",
   "name": "python3"
  },
  "language_info": {
   "codemirror_mode": {
    "name": "ipython",
    "version": 3
   },
   "file_extension": ".py",
   "mimetype": "text/x-python",
   "name": "python",
   "nbconvert_exporter": "python",
   "pygments_lexer": "ipython3",
   "version": "3.9.7"
  }
 },
 "nbformat": 4,
 "nbformat_minor": 5
}