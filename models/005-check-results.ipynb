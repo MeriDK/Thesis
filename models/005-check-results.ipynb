{
 "cells": [
  {
   "cell_type": "code",
   "execution_count": 39,
   "id": "9da0183d-68d9-4076-9f60-31ec50f519c8",
   "metadata": {},
   "outputs": [],
   "source": [
    "import pandas as pd\n",
    "import json"
   ]
  },
  {
   "cell_type": "code",
   "execution_count": 40,
   "id": "995c9dd5-b58e-4003-b63e-cb365ea3544d",
   "metadata": {},
   "outputs": [],
   "source": [
    "with open('generated_songs/vodka_g/Expert.dat', 'r') as f:\n",
    "    data_g = json.loads(f.read())"
   ]
  },
  {
   "cell_type": "code",
   "execution_count": 45,
   "id": "a52b5d9d-4437-4742-8c73-22bad1a5db5f",
   "metadata": {},
   "outputs": [],
   "source": [
    "with open('generated_songs/vodka/Expert.dat', 'r') as f:\n",
    "    data_s = json.loads(f.read())"
   ]
  },
  {
   "cell_type": "code",
   "execution_count": 34,
   "id": "7111238c-88dc-4b02-a286-7a21c4fc8a13",
   "metadata": {},
   "outputs": [],
   "source": [
    "g = data_g['_notes']\n",
    "s = data_s['_notes']"
   ]
  },
  {
   "cell_type": "code",
   "execution_count": 35,
   "id": "dc343055-2f76-4f02-96b5-4239a0a1040e",
   "metadata": {},
   "outputs": [
    {
     "data": {
      "text/plain": [
       "({0, 1, 2, 3}, {0, 1, 2, 3})"
      ]
     },
     "execution_count": 35,
     "metadata": {},
     "output_type": "execute_result"
    }
   ],
   "source": [
    "set([el['_lineIndex'] for el in s]), set([el['_lineIndex'] for el in g])"
   ]
  },
  {
   "cell_type": "code",
   "execution_count": 36,
   "id": "15d36fec-966f-422f-a4a6-45bb1f8ea76f",
   "metadata": {},
   "outputs": [
    {
     "data": {
      "text/plain": [
       "({1}, {0, 1})"
      ]
     },
     "execution_count": 36,
     "metadata": {},
     "output_type": "execute_result"
    }
   ],
   "source": [
    "set([el['_lineLayer'] for el in s]), set([el['_lineLayer'] for el in g])"
   ]
  },
  {
   "cell_type": "code",
   "execution_count": 37,
   "id": "b6bfcc2a-4419-46fb-ab65-fc188c546f63",
   "metadata": {},
   "outputs": [
    {
     "data": {
      "text/plain": [
       "({0}, {0, 1})"
      ]
     },
     "execution_count": 37,
     "metadata": {},
     "output_type": "execute_result"
    }
   ],
   "source": [
    "set([el['_type'] for el in s]), set([el['_type'] for el in g])"
   ]
  },
  {
   "cell_type": "code",
   "execution_count": 38,
   "id": "fd3664dd-9b45-4154-ada4-7721391be256",
   "metadata": {},
   "outputs": [
    {
     "data": {
      "text/plain": [
       "({1}, {1})"
      ]
     },
     "execution_count": 38,
     "metadata": {},
     "output_type": "execute_result"
    }
   ],
   "source": [
    "set([el['_cutDirection'] for el in s]), set([el['_cutDirection'] for el in g])"
   ]
  },
  {
   "cell_type": "code",
   "execution_count": null,
   "id": "58a35608-eeea-457c-8e69-db29b1ef1e14",
   "metadata": {},
   "outputs": [],
   "source": []
  },
  {
   "cell_type": "code",
   "execution_count": null,
   "id": "f527b8b6-a848-4455-8c74-057972c7e9cd",
   "metadata": {},
   "outputs": [],
   "source": []
  }
 ],
 "metadata": {
  "kernelspec": {
   "display_name": "Python 3 (ipykernel)",
   "language": "python",
   "name": "python3"
  },
  "language_info": {
   "codemirror_mode": {
    "name": "ipython",
    "version": 3
   },
   "file_extension": ".py",
   "mimetype": "text/x-python",
   "name": "python",
   "nbconvert_exporter": "python",
   "pygments_lexer": "ipython3",
   "version": "3.9.7"
  }
 },
 "nbformat": 4,
 "nbformat_minor": 5
}
