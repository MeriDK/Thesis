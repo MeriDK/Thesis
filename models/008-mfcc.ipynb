{
 "cells": [
  {
   "cell_type": "code",
   "execution_count": 46,
   "id": "0892fba6-2096-4302-a349-dded4fab29fd",
   "metadata": {},
   "outputs": [],
   "source": [
    "import matplotlib.pyplot as plt\n",
    "from matplotlib import cm\n",
    "import numpy as np\n",
    "import scipy\n",
    "import sklearn\n",
    "import librosa\n",
    "import librosa.display\n",
    "import IPython.display as ipd\n",
    "import json\n",
    "from scipy.signal import find_peaks\n",
    "from sklearn.tree import DecisionTreeClassifier\n",
    "import pandas as pd\n",
    "from random import shuffle"
   ]
  },
  {
   "cell_type": "code",
   "execution_count": 20,
   "id": "a36a4098-a534-49f4-a0b5-d666da9c266b",
   "metadata": {},
   "outputs": [],
   "source": [
    "audio_path = 'data/amalfi/song.ogg'\n",
    "y, sr = librosa.load(audio_path)\n",
    "\n",
    "with open('data/amalfi/Easy.dat', 'r') as f:\n",
    "    data = json.load(f)\n",
    "    t = np.array(sorted(list(set([el['_time'] for el in data['_notes']]))))\n",
    "    \n",
    "tempo = 122    # from info.dat\n",
    "dur = librosa.get_duration(y=y, sr=sr)\n",
    "mfcc = librosa.feature.mfcc(y=y, sr=sr, n_mfcc=1)"
   ]
  },
  {
   "cell_type": "code",
   "execution_count": 22,
   "id": "20f15449-61fc-4273-802e-dd6a59f53f8c",
   "metadata": {},
   "outputs": [
    {
     "data": {
      "text/plain": [
       "<matplotlib.collections.QuadMesh at 0x20a95783850>"
      ]
     },
     "execution_count": 22,
     "metadata": {},
     "output_type": "execute_result"
    },
    {
     "data": {
      "image/png": "[encoded data removed]",
      "text/plain": [
       "<Figure size 432x288 with 1 Axes>"
      ]
     },
     "metadata": {},
     "output_type": "display_data"
    }
   ],
   "source": [
    "librosa.display.specshow(np.atleast_2d(mfcc))"
   ]
  },
  {
   "cell_type": "code",
   "execution_count": 23,
   "id": "29846a90-bd8a-4c43-954d-bcf5caf1af6d",
   "metadata": {},
   "outputs": [
    {
     "data": {
      "text/plain": [
       "(1, 9531)"
      ]
     },
     "execution_count": 23,
     "metadata": {},
     "output_type": "execute_result"
    }
   ],
   "source": [
    "mfcc.shape"
   ]
  },
  {
   "cell_type": "code",
   "execution_count": 24,
   "id": "6a0f9c92-e979-4e1a-9a09-7c1166952603",
   "metadata": {},
   "outputs": [
    {
     "data": {
      "text/plain": [
       "(array([0., 1.]), array([8746,  785], dtype=int64))"
      ]
     },
     "execution_count": 24,
     "metadata": {},
     "output_type": "execute_result"
    }
   ],
   "source": [
    "mask = librosa.time_to_frames(t / tempo * 60, hop_length=512)\n",
    "res = np.zeros(mfcc.shape[1])\n",
    "res[mask] = 1\n",
    "np.unique(res, return_counts=True)"
   ]
  },
  {
   "cell_type": "code",
   "execution_count": 25,
   "id": "127c67b2-6310-48d0-ad25-a6ddbaef8958",
   "metadata": {},
   "outputs": [
    {
     "data": {
      "text/plain": [
       "array([[1.        , 0.22778929],\n",
       "       [0.22778929, 1.        ]])"
      ]
     },
     "execution_count": 25,
     "metadata": {},
     "output_type": "execute_result"
    }
   ],
   "source": [
    "np.corrcoef(mfcc[0], res)"
   ]
  },
  {
   "cell_type": "code",
   "execution_count": 26,
   "id": "712981a2-5c10-4675-9be2-d5b1f87ea50b",
   "metadata": {},
   "outputs": [
    {
     "data": {
      "text/plain": [
       "array([0., 0., 0., ..., 0., 0., 0.])"
      ]
     },
     "execution_count": 26,
     "metadata": {},
     "output_type": "execute_result"
    }
   ],
   "source": [
    "res"
   ]
  },
  {
   "cell_type": "code",
   "execution_count": 35,
   "id": "3223b9e1-7be4-47a4-a66f-c55f5be4dbc1",
   "metadata": {},
   "outputs": [
    {
     "data": {
      "text/plain": [
       "DecisionTreeClassifier(max_depth=10, random_state=42)"
      ]
     },
     "execution_count": 35,
     "metadata": {},
     "output_type": "execute_result"
    }
   ],
   "source": [
    "clf = DecisionTreeClassifier(max_depth=10, random_state=42)\n",
    "clf.fit(mfcc.T, res)"
   ]
  },
  {
   "cell_type": "code",
   "execution_count": 36,
   "id": "8ba9f446-d016-4f0d-8a56-c5605ca4de1c",
   "metadata": {},
   "outputs": [
    {
     "data": {
      "text/plain": [
       "0.9335851432168712"
      ]
     },
     "execution_count": 36,
     "metadata": {},
     "output_type": "execute_result"
    }
   ],
   "source": [
    "clf.score(mfcc.T, res)"
   ]
  },
  {
   "cell_type": "code",
   "execution_count": 37,
   "id": "55dd536d-adaa-4e72-ad4d-135c4a5eae73",
   "metadata": {},
   "outputs": [
    {
     "data": {
      "text/plain": [
       "10"
      ]
     },
     "execution_count": 37,
     "metadata": {},
     "output_type": "execute_result"
    }
   ],
   "source": [
    "clf.get_depth()"
   ]
  },
  {
   "cell_type": "code",
   "execution_count": 40,
   "id": "21950b7e-a475-4555-8968-a6636ed7b1df",
   "metadata": {},
   "outputs": [],
   "source": [
    "def get_xy(audio_path, level_path, tempo):\n",
    "    # read audio and calculate tempo\n",
    "    y, sr = librosa.load(audio_path)\n",
    "\n",
    "    # get mfcc\n",
    "    mfcc = librosa.feature.mfcc(y=y, sr=sr, n_mfcc=1)\n",
    "    X = mfcc.T\n",
    "\n",
    "    # read level\n",
    "    with open(level_path, 'r') as f:\n",
    "        data = json.load(f)\n",
    "        t = np.array(sorted(list(set([el['_time'] for el in data['_notes']]))))\n",
    "        \n",
    "        mask = librosa.time_to_frames(t / tempo * 60, hop_length=512)\n",
    "        res = np.zeros(mfcc.shape[1])\n",
    "        res[mask] = 1\n",
    "        \n",
    "    return X, res"
   ]
  },
  {
   "cell_type": "code",
   "execution_count": 41,
   "id": "8fffb933-4df0-4264-9bdd-e75233acf5c7",
   "metadata": {},
   "outputs": [
    {
     "data": {
      "text/plain": [
       "(array([[-455.07547],\n",
       "        [-455.07547],\n",
       "        [-455.07547],\n",
       "        ...,\n",
       "        [-455.07547],\n",
       "        [-455.07547],\n",
       "        [-455.07547]], dtype=float32),\n",
       " array([0., 0., 0., ..., 0., 0., 0.]))"
      ]
     },
     "execution_count": 41,
     "metadata": {},
     "output_type": "execute_result"
    }
   ],
   "source": [
    "get_xy('data/amalfi/song.ogg', 'data/amalfi/Easy.dat', 122)"
   ]
  },
  {
   "cell_type": "code",
   "execution_count": 44,
   "id": "c9b7be24-7e9c-43ee-a508-21f95ba98bc9",
   "metadata": {},
   "outputs": [
    {
     "data": {
      "text/html": [
       "<div>\n",
       "<style scoped>\n",
       "    .dataframe tbody tr th:only-of-type {\n",
       "        vertical-align: middle;\n",
       "    }\n",
       "\n",
       "    .dataframe tbody tr th {\n",
       "        vertical-align: top;\n",
       "    }\n",
       "\n",
       "    .dataframe thead th {\n",
       "        text-align: right;\n",
       "    }\n",
       "</style>\n",
       "<table border=\"1\" class=\"dataframe\">\n",
       "  <thead>\n",
       "    <tr style=\"text-align: right;\">\n",
       "      <th></th>\n",
       "      <th>song_id</th>\n",
       "      <th>song_name</th>\n",
       "      <th>song_author</th>\n",
       "      <th>song_file</th>\n",
       "      <th>bpm</th>\n",
       "      <th>Easy</th>\n",
       "      <th>Normal</th>\n",
       "      <th>Hard</th>\n",
       "      <th>Expert</th>\n",
       "      <th>ExpertPlus</th>\n",
       "    </tr>\n",
       "  </thead>\n",
       "  <tbody>\n",
       "    <tr>\n",
       "      <th>0</th>\n",
       "      <td>aaj</td>\n",
       "      <td>Aaj</td>\n",
       "      <td>Bloodywood</td>\n",
       "      <td>song.ogg</td>\n",
       "      <td>180.000000</td>\n",
       "      <td>Easy.dat</td>\n",
       "      <td>NaN</td>\n",
       "      <td>NaN</td>\n",
       "      <td>NaN</td>\n",
       "      <td>NaN</td>\n",
       "    </tr>\n",
       "    <tr>\n",
       "      <th>1</th>\n",
       "      <td>africatotometalcover</td>\n",
       "      <td>Africa - Toto (Metal Cover)</td>\n",
       "      <td>Leo Moracchioli, Rabea, Hannah</td>\n",
       "      <td>song.ogg</td>\n",
       "      <td>105.000000</td>\n",
       "      <td>NaN</td>\n",
       "      <td>NaN</td>\n",
       "      <td>NaN</td>\n",
       "      <td>NaN</td>\n",
       "      <td>ExpertPlus.dat</td>\n",
       "    </tr>\n",
       "    <tr>\n",
       "      <th>2</th>\n",
       "      <td>afterlife</td>\n",
       "      <td>Afterlife</td>\n",
       "      <td>Avenged Sevenfold</td>\n",
       "      <td>song.ogg</td>\n",
       "      <td>220.000000</td>\n",
       "      <td>Easy.dat</td>\n",
       "      <td>NaN</td>\n",
       "      <td>NaN</td>\n",
       "      <td>NaN</td>\n",
       "      <td>NaN</td>\n",
       "    </tr>\n",
       "    <tr>\n",
       "      <th>3</th>\n",
       "      <td>alerion</td>\n",
       "      <td>Alerion</td>\n",
       "      <td>Asking Alexandria</td>\n",
       "      <td>song.ogg</td>\n",
       "      <td>130.000000</td>\n",
       "      <td>NaN</td>\n",
       "      <td>NormalStandard.dat</td>\n",
       "      <td>HardStandard.dat</td>\n",
       "      <td>NaN</td>\n",
       "      <td>ExpertPlusStandard.dat</td>\n",
       "    </tr>\n",
       "    <tr>\n",
       "      <th>4</th>\n",
       "      <td>alittlepieceofheaven</td>\n",
       "      <td>A Little Piece of Heaven</td>\n",
       "      <td>Avenged Sevenfold</td>\n",
       "      <td>song.ogg</td>\n",
       "      <td>144.985992</td>\n",
       "      <td>NaN</td>\n",
       "      <td>NaN</td>\n",
       "      <td>NaN</td>\n",
       "      <td>NaN</td>\n",
       "      <td>NaN</td>\n",
       "    </tr>\n",
       "  </tbody>\n",
       "</table>\n",
       "</div>"
      ],
      "text/plain": [
       "                song_id                    song_name  \\\n",
       "0                   aaj                          Aaj   \n",
       "1  africatotometalcover  Africa - Toto (Metal Cover)   \n",
       "2             afterlife                    Afterlife   \n",
       "3               alerion                      Alerion   \n",
       "4  alittlepieceofheaven     A Little Piece of Heaven   \n",
       "\n",
       "                      song_author song_file         bpm      Easy  \\\n",
       "0                      Bloodywood  song.ogg  180.000000  Easy.dat   \n",
       "1  Leo Moracchioli, Rabea, Hannah  song.ogg  105.000000       NaN   \n",
       "2               Avenged Sevenfold  song.ogg  220.000000  Easy.dat   \n",
       "3               Asking Alexandria  song.ogg  130.000000       NaN   \n",
       "4               Avenged Sevenfold  song.ogg  144.985992       NaN   \n",
       "\n",
       "               Normal              Hard Expert              ExpertPlus  \n",
       "0                 NaN               NaN    NaN                     NaN  \n",
       "1                 NaN               NaN    NaN          ExpertPlus.dat  \n",
       "2                 NaN               NaN    NaN                     NaN  \n",
       "3  NormalStandard.dat  HardStandard.dat    NaN  ExpertPlusStandard.dat  \n",
       "4                 NaN               NaN    NaN                     NaN  "
      ]
     },
     "execution_count": 44,
     "metadata": {},
     "output_type": "execute_result"
    }
   ],
   "source": [
    "df = pd.read_csv('data_info2.csv')\n",
    "df.head()"
   ]
  },
  {
   "cell_type": "code",
   "execution_count": 47,
   "id": "503325cc-f8f6-40d9-8f0b-f45f7b16e20c",
   "metadata": {},
   "outputs": [
    {
     "data": {
      "text/plain": [
       "(400, 172)"
      ]
     },
     "execution_count": 47,
     "metadata": {},
     "output_type": "execute_result"
    }
   ],
   "source": [
    "song_ids = list(df[~df['Easy'].isnull()]['song_id'])\n",
    "shuffle(song_ids)\n",
    "\n",
    "song_ids_train = song_ids[:400]\n",
    "song_ids_test = song_ids[400:]\n",
    "\n",
    "len(song_ids_train), len(song_ids_test)"
   ]
  },
  {
   "cell_type": "code",
   "execution_count": 50,
   "id": "b31b4d5d-8153-4091-8900-039e6f33ad56",
   "metadata": {},
   "outputs": [],
   "source": [
    "df_train = df[df['song_id'].isin(song_ids_train)]\n",
    "df_test = df[df['song_id'].isin(song_ids_test)]\n",
    "df_train.reset_index(inplace=True)\n",
    "df_test.reset_index(inplace=True)"
   ]
  },
  {
   "cell_type": "code",
   "execution_count": 51,
   "id": "2d10476e-7f80-4509-8276-743007f4813d",
   "metadata": {},
   "outputs": [],
   "source": [
    "train_X, test_X = [], []\n",
    "train_y, test_y = [], []"
   ]
  },
  {
   "cell_type": "code",
   "execution_count": 52,
   "id": "2b8caa73-b069-4cbc-a5f3-c22648a5ee24",
   "metadata": {},
   "outputs": [
    {
     "name": "stdout",
     "output_type": "stream",
     "text": [
      "0\n",
      "10\n",
      "20\n",
      "30\n",
      "40\n",
      "50\n",
      "60\n",
      "70\n",
      "80\n",
      "90\n",
      "Error:  100\n",
      "100\n",
      "110\n",
      "120\n",
      "130\n",
      "140\n",
      "150\n",
      "160\n",
      "170\n",
      "180\n",
      "190\n",
      "200\n",
      "210\n",
      "Error:  215\n",
      "220\n",
      "230\n",
      "240\n",
      "250\n",
      "260\n",
      "270\n",
      "280\n",
      "290\n",
      "300\n",
      "310\n",
      "320\n",
      "330\n",
      "340\n",
      "350\n",
      "360\n",
      "370\n",
      "380\n",
      "390\n"
     ]
    }
   ],
   "source": [
    "for i, el in df_train.iterrows():\n",
    "    try:\n",
    "        path = 'data/' + el['song_id'] + '/'\n",
    "        el_X, el_y = get_xy(path + el['song_file'], path + el['Easy'], el['bpm'])\n",
    "        train_X.append(el_X)\n",
    "        train_y.append(el_y)\n",
    "    except:\n",
    "        print('Error: ', i)\n",
    "        \n",
    "    if i % 10 == 0:\n",
    "        print(i)"
   ]
  },
  {
   "cell_type": "code",
   "execution_count": 53,
   "id": "3ab2ee28-cbe7-4cff-b9a9-987d3bb582d5",
   "metadata": {},
   "outputs": [
    {
     "data": {
      "text/plain": [
       "(3776241, 1)"
      ]
     },
     "execution_count": 53,
     "metadata": {},
     "output_type": "execute_result"
    }
   ],
   "source": [
    "X_train = np.vstack(train_X)\n",
    "X_train.shape"
   ]
  },
  {
   "cell_type": "code",
   "execution_count": 54,
   "id": "c0eeb051-0e1f-4b8e-bcb6-65c52ab784ca",
   "metadata": {},
   "outputs": [
    {
     "data": {
      "text/plain": [
       "(3776241,)"
      ]
     },
     "execution_count": 54,
     "metadata": {},
     "output_type": "execute_result"
    }
   ],
   "source": [
    "y_train = np.hstack(train_y)\n",
    "y_train.shape"
   ]
  },
  {
   "cell_type": "code",
   "execution_count": 55,
   "id": "2fbaca8b-a46c-482e-8d56-1c16a9ef3fd2",
   "metadata": {},
   "outputs": [],
   "source": [
    "np.save('X_train_mfcc.npy', X_train)\n",
    "np.save('y_train_mfcc.npy', y_train)"
   ]
  },
  {
   "cell_type": "code",
   "execution_count": 56,
   "id": "c216789e-ae74-4268-a2a5-44c4007cb937",
   "metadata": {},
   "outputs": [
    {
     "name": "stdout",
     "output_type": "stream",
     "text": [
      "0\n",
      "10\n",
      "20\n",
      "30\n",
      "40\n",
      "50\n",
      "60\n",
      "Error:  67\n",
      "70\n",
      "80\n",
      "90\n",
      "100\n",
      "110\n",
      "120\n",
      "130\n",
      "140\n",
      "150\n",
      "160\n",
      "170\n"
     ]
    }
   ],
   "source": [
    "for i, el in df_test.iterrows():\n",
    "    try:\n",
    "        path = 'data/' + el['song_id'] + '/'\n",
    "        el_X, el_y = get_xy(path + el['song_file'], path + el['Easy'], el['bpm'])\n",
    "        test_X.append(el_X)\n",
    "        test_y.append(el_y)\n",
    "    except:\n",
    "        print('Error: ', i)\n",
    "        \n",
    "    if i % 10 == 0:\n",
    "        print(i)"
   ]
  },
  {
   "cell_type": "code",
   "execution_count": 57,
   "id": "6d8d326b-b785-4c36-bdd0-62efeb97167a",
   "metadata": {},
   "outputs": [],
   "source": [
    "y_test, y_val = test_y[:85], test_y[85:]\n",
    "X_test, X_val = test_X[:85], test_X[85:]\n",
    "\n",
    "X_test = np.vstack(X_test)\n",
    "X_val = np.vstack(X_val)\n",
    "\n",
    "y_test = np.hstack(y_test)\n",
    "y_val = np.hstack(y_val)\n",
    "\n",
    "np.save('X_test.npy', X_test)\n",
    "np.save('y_test.npy', y_test)\n",
    "\n",
    "np.save('X_val.npy', X_val)\n",
    "np.save('y_val.npy', y_val)"
   ]
  },
  {
   "cell_type": "code",
   "execution_count": null,
   "id": "fbb4db2c-c80f-41cd-adfd-2fdc58b1f289",
   "metadata": {},
   "outputs": [],
   "source": []
  }
 ],
 "metadata": {
  "kernelspec": {
   "display_name": "Python 3 (ipykernel)",
   "language": "python",
   "name": "python3"
  },
  "language_info": {
   "codemirror_mode": {
    "name": "ipython",
    "version": 3
   },
   "file_extension": ".py",
   "mimetype": "text/x-python",
   "name": "python",
   "nbconvert_exporter": "python",
   "pygments_lexer": "ipython3",
   "version": "3.9.7"
  }
 },
 "nbformat": 4,
 "nbformat_minor": 5
}
